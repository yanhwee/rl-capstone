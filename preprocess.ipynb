{
 "cells": [
  {
   "cell_type": "code",
   "execution_count": 1,
   "metadata": {},
   "outputs": [],
   "source": [
    "import gym\n",
    "from preprocess import *"
   ]
  },
  {
   "cell_type": "code",
   "execution_count": 2,
   "metadata": {},
   "outputs": [],
   "source": [
    "env = gym.make('CartPole-v0')\n",
    "n_actions = env.action_space.n\n",
    "n_features = env.observation_space.shape[0]\n",
    "lows = env.observation_space.low.copy()\n",
    "highs = env.observation_space.high.copy()\n",
    "lows[abs(lows) > 10] = -10\n",
    "highs[abs(highs) > 10] = 10"
   ]
  },
  {
   "cell_type": "code",
   "execution_count": 3,
   "metadata": {},
   "outputs": [],
   "source": [
    "state = env.observation_space.sample()\n",
    "state[1] = 10\n",
    "state[3] = -10"
   ]
  },
  {
   "cell_type": "code",
   "execution_count": 4,
   "metadata": {},
   "outputs": [
    {
     "name": "stdout",
     "output_type": "stream",
     "text": [
      "State:\n",
      " [  1.4275092  10.         -0.4154778 -10.       ]\n",
      "Normalised:\n",
      " [0.64869887 1.         0.00405991 0.        ]\n"
     ]
    }
   ],
   "source": [
    "normalise = Normalise(n_features, lows, highs)\n",
    "state1 = normalise(state)\n",
    "print('State:\\n', state)\n",
    "print('Normalised:\\n', state1)"
   ]
  },
  {
   "cell_type": "code",
   "execution_count": 5,
   "metadata": {},
   "outputs": [
    {
     "name": "stdout",
     "output_type": "stream",
     "text": [
      "Polynomial:\n",
      " [1.00000000e+00 6.48698866e-01 1.00000000e+00 4.05990705e-03\n",
      " 0.00000000e+00 4.20810219e-01 6.48698866e-01 2.63365710e-03\n",
      " 0.00000000e+00 1.00000000e+00 4.05990705e-03 0.00000000e+00\n",
      " 1.64828452e-05 0.00000000e+00 0.00000000e+00]\n"
     ]
    }
   ],
   "source": [
    "polynomial = Polynomial(n_features, 2)\n",
    "state2 = polynomial(state1)\n",
    "print('Polynomial:\\n', state2)"
   ]
  },
  {
   "cell_type": "code",
   "execution_count": 6,
   "metadata": {},
   "outputs": [
    {
     "name": "stdout",
     "output_type": "stream",
     "text": [
      "Fourier:\n",
      " [ 1.          1.          0.99991866  0.99991866 -1.         -1.\n",
      " -0.99991866 -0.99991866 -0.45034461 -0.45034461 -0.46169565 -0.46169565\n",
      "  0.45034461  0.45034461  0.46169565  0.46169565]\n"
     ]
    }
   ],
   "source": [
    "fourier = Fourier(n_features, 2)\n",
    "state3 = fourier(state1)\n",
    "print('Fourier:\\n', state3)"
   ]
  },
  {
   "cell_type": "code",
   "execution_count": 7,
   "metadata": {},
   "outputs": [
    {
     "name": "stdout",
     "output_type": "stream",
     "text": [
      "Aggregate:\n",
      " [0. 0. 0. 0. 0. 0. 0. 1. 0. 0. 0. 0. 0. 0. 0. 0. 0. 0. 0. 0. 0. 0. 0. 0.\n",
      " 0. 0. 0. 0. 0. 0. 0. 0. 0. 0. 0. 0. 0. 0. 0. 0. 0. 0. 0. 0. 0. 0. 0. 0.\n",
      " 0. 0. 0. 0. 0. 0. 0. 0. 0. 0. 0. 0. 0. 0. 0. 0. 0. 0. 0. 0. 0. 0. 0. 0.\n",
      " 0. 0. 0. 0. 0. 0. 0. 0. 0.]\n"
     ]
    }
   ],
   "source": [
    "aggregate = FullAggregration(n_features, 3)\n",
    "state4 = aggregate(state1)\n",
    "print('Aggregate:\\n', state4)"
   ]
  },
  {
   "cell_type": "code",
   "execution_count": 8,
   "metadata": {},
   "outputs": [
    {
     "name": "stdout",
     "output_type": "stream",
     "text": [
      "Aggregrate (partial):\n",
      " [0. 1. 0. 0. 0. 1. 1. 0. 0. 1. 0. 0.]\n"
     ]
    }
   ],
   "source": [
    "aggregrate = PartialAggregration(n_features, 3)\n",
    "state5 = aggregrate(state1)\n",
    "print('Aggregrate (partial):\\n', state5)"
   ]
  }
 ],
 "metadata": {
  "kernelspec": {
   "display_name": "Python 3",
   "language": "python",
   "name": "python3"
  },
  "language_info": {
   "codemirror_mode": {
    "name": "ipython",
    "version": 3
   },
   "file_extension": ".py",
   "mimetype": "text/x-python",
   "name": "python",
   "nbconvert_exporter": "python",
   "pygments_lexer": "ipython3",
   "version": "3.7.9"
  }
 },
 "nbformat": 4,
 "nbformat_minor": 4
}
