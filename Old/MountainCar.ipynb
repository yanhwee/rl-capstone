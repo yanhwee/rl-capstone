{
 "cells": [
  {
   "cell_type": "code",
   "execution_count": 1,
   "metadata": {},
   "outputs": [],
   "source": [
    "import gym\n",
    "from agents import *\n",
    "from policies import *\n",
    "from interact import Interact\n",
    "from preprocess import *\n",
    "from utils import compose\n",
    "import matplotlib.pyplot as plt\n",
    "import numpy as np\n",
    "from math import log10, radians"
   ]
  },
  {
   "cell_type": "code",
   "execution_count": 10,
   "metadata": {},
   "outputs": [],
   "source": [
    "env = gym.make('MountainCar-v0')\n",
    "n_actions = env.action_space.n\n",
    "n_features = env.observation_space.shape[0]\n",
    "lows = env.observation_space.low\n",
    "highs = env.observation_space.high"
   ]
  },
  {
   "cell_type": "code",
   "execution_count": 50,
   "metadata": {},
   "outputs": [
    {
     "name": "stdout",
     "output_type": "stream",
     "text": [
      "100\n"
     ]
    }
   ],
   "source": [
    "preprocessing = [\n",
    "    Normalise(n_features, lows, highs),\n",
    "    FullAggregation(n_features, 10)\n",
    "]\n",
    "preprocess = compose(*preprocessing)\n",
    "n_output = preprocessing[-1].n_output\n",
    "print(n_output)"
   ]
  },
  {
   "cell_type": "code",
   "execution_count": 51,
   "metadata": {},
   "outputs": [
    {
     "data": {
      "application/vnd.jupyter.widget-view+json": {
       "model_id": "b2a400f4eefd4dc4bed3afeda70a300a",
       "version_major": 2,
       "version_minor": 0
      },
      "text/plain": [
       "HBox(children=(HTML(value=''), FloatProgress(value=0.0, max=500.0), HTML(value='')))"
      ]
     },
     "metadata": {},
     "output_type": "display_data"
    },
    {
     "name": "stdout",
     "output_type": "stream",
     "text": [
      "\n"
     ]
    }
   ],
   "source": [
    "agent = TreeAgent(\n",
    "    n_actions, n_output, 1, Greedy(), EGreedy(0.0), 1, 0.1)\n",
    "def eps_end(i):\n",
    "    pass\n",
    "#     agent.behaviour_policy.epsilon = max(0.1, min(1, 1 - log10((i + 1) / 25)))\n",
    "#     agent.learning_rate = max(0.1, min(1, 1 - log10((i + 1) / 25)))\n",
    "#     agent.behaviour_policy.epsilon *= 0.992\n",
    "#     agent.learning_rate *= 0.99\n",
    "\n",
    "eps_act, eps_obs, eps_rewards, eps_states, eps_actions = \\\n",
    "    Interact.train(\n",
    "        env, agent, 500, preprocess=preprocess, \n",
    "        eps_end=eps_end)"
   ]
  },
  {
   "cell_type": "code",
   "execution_count": 52,
   "metadata": {},
   "outputs": [
    {
     "data": {
      "image/png": "[encoded data removed]",
      "text/plain": [
       "<Figure size 432x288 with 1 Axes>"
      ]
     },
     "metadata": {
      "needs_background": "light"
     },
     "output_type": "display_data"
    }
   ],
   "source": [
    "eps_reward = [sum(ep_rewards) for ep_rewards in eps_rewards]\n",
    "plt.plot(eps_reward)\n",
    "plt.show()"
   ]
  },
  {
   "cell_type": "code",
   "execution_count": 56,
   "metadata": {},
   "outputs": [
    {
     "name": "stdout",
     "output_type": "stream",
     "text": [
      "154\n"
     ]
    }
   ],
   "source": [
    "Interact.test(env, agent, 0.0, preprocess=preprocess)"
   ]
  },
  {
   "cell_type": "code",
   "execution_count": 125,
   "metadata": {},
   "outputs": [
    {
     "name": "stdout",
     "output_type": "stream",
     "text": [
      "100\n"
     ]
    }
   ],
   "source": [
    "preprocessing = [\n",
    "    Normalise(n_features, lows, highs),\n",
    "    Fourier(n_features, 10)\n",
    "]\n",
    "preprocess = compose(*preprocessing)\n",
    "n_output = preprocessing[-1].n_output\n",
    "print(n_output)"
   ]
  },
  {
   "cell_type": "code",
   "execution_count": 126,
   "metadata": {},
   "outputs": [
    {
     "data": {
      "application/vnd.jupyter.widget-view+json": {
       "model_id": "dde6c86947ad4ad1a78acc0f56ccc33b",
       "version_major": 2,
       "version_minor": 0
      },
      "text/plain": [
       "HBox(children=(HTML(value=''), FloatProgress(value=0.0), HTML(value='')))"
      ]
     },
     "metadata": {},
     "output_type": "display_data"
    },
    {
     "name": "stdout",
     "output_type": "stream",
     "text": [
      "\n"
     ]
    }
   ],
   "source": [
    "agent = TreeAgent(\n",
    "    n_actions, n_output, 1, Greedy(), EGreedy(0.0), 1, 0.5)\n",
    "def eps_end(i):\n",
    "    pass\n",
    "eps_act, eps_obs, eps_rewards, eps_states, eps_actions = \\\n",
    "    Interact.train(\n",
    "        env, agent, 100, preprocess=preprocess, \n",
    "        eps_end=eps_end)"
   ]
  },
  {
   "cell_type": "code",
   "execution_count": 127,
   "metadata": {},
   "outputs": [
    {
     "data": {
      "image/png": "[encoded data removed]",
      "text/plain": [
       "<Figure size 432x288 with 1 Axes>"
      ]
     },
     "metadata": {
      "needs_background": "light"
     },
     "output_type": "display_data"
    }
   ],
   "source": [
    "eps_reward = [sum(ep_rewards) for ep_rewards in eps_rewards]\n",
    "plt.plot(eps_reward)\n",
    "plt.show()"
   ]
  },
  {
   "cell_type": "code",
   "execution_count": 128,
   "metadata": {},
   "outputs": [
    {
     "name": "stdout",
     "output_type": "stream",
     "text": [
      "199\n"
     ]
    }
   ],
   "source": [
    "Interact.test(env, agent, 0.0, preprocess=preprocess)"
   ]
  }
 ],
 "metadata": {
  "kernelspec": {
   "display_name": "Python 3",
   "language": "python",
   "name": "python3"
  },
  "language_info": {
   "codemirror_mode": {
    "name": "ipython",
    "version": 3
   },
   "file_extension": ".py",
   "mimetype": "text/x-python",
   "name": "python",
   "nbconvert_exporter": "python",
   "pygments_lexer": "ipython3",
   "version": "3.7.9"
  }
 },
 "nbformat": 4,
 "nbformat_minor": 4
}
