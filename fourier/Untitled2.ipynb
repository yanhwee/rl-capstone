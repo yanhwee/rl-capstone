{
 "cells": [
  {
   "cell_type": "code",
   "execution_count": 71,
   "metadata": {},
   "outputs": [],
   "source": [
    "import numpy as np\n",
    "import matplotlib.pyplot as plt\n",
    "from math import pi, cos\n",
    "from tqdm.auto import tqdm\n",
    "from random import random\n",
    "from IPython.display import clear_output"
   ]
  },
  {
   "cell_type": "code",
   "execution_count": 72,
   "metadata": {},
   "outputs": [],
   "source": [
    "def plot(f, m=50):\n",
    "    xs = np.linspace(0, 1, m, endpoint=False)\n",
    "    ys = [f(x) for x in tqdm(xs, disable=True)]\n",
    "    plt.plot(xs, ys)"
   ]
  },
  {
   "cell_type": "code",
   "execution_count": 139,
   "metadata": {},
   "outputs": [],
   "source": [
    "n = 100\n",
    "xk = lambda s, k: cos(k * pi * s)\n",
    "x = lambda s: np.array([xk(s, k) for k in range(n)])\n",
    "w = np.ones(n)\n",
    "v = lambda s: np.dot(w, x(s))\n",
    "def update(w, u, x, lr=0.01):\n",
    "    w += lr * (u - np.dot(w, x)) * x\n",
    "#     w[0] += lr * (u * x[0] - w[0])\n",
    "#     w[1:] += lr * (2 * u * x[1:] - w[1:])\n",
    "#     w[0] += lr * (u - w[0])\n",
    "#     w[1:] += lr * (u - w[1:])\n",
    "#     w[0] += lr * (u - w[0])\n",
    "#     w[1:] += lr * (2 * u * x(s)[1:] - w[1:])\n",
    "#     w += lr * (u - w) * x(s)\n",
    "#     w[0] += lr * (u - w)\n",
    "#     for k in range(1, n):\n",
    "#         t = u * cos(k * pi * u)\n",
    "#         w[i] += lr * 2 * ()"
   ]
  },
  {
   "cell_type": "code",
   "execution_count": 141,
   "metadata": {},
   "outputs": [
    {
     "data": {
      "image/png": "[encoded data removed]",
      "text/plain": [
       "<Figure size 432x288 with 1 Axes>"
      ]
     },
     "metadata": {
      "needs_background": "light"
     },
     "output_type": "display_data"
    }
   ],
   "source": [
    "f = lambda x: x#0 if x < 0.5 else 1\n",
    "for i in range(20):\n",
    "    for _ in range(100):\n",
    "        s = random()\n",
    "        update(w, f(s), x(s))\n",
    "    clear_output(wait=True)\n",
    "    plot(f)\n",
    "    plot(v)\n",
    "    plt.show()"
   ]
  },
  {
   "cell_type": "code",
   "execution_count": 135,
   "metadata": {},
   "outputs": [
    {
     "data": {
      "text/plain": [
       "0.5001066455975689"
      ]
     },
     "execution_count": 135,
     "metadata": {},
     "output_type": "execute_result"
    }
   ],
   "source": [
    "w[0]"
   ]
  },
  {
   "cell_type": "code",
   "execution_count": null,
   "metadata": {},
   "outputs": [],
   "source": []
  }
 ],
 "metadata": {
  "kernelspec": {
   "display_name": "Python 3",
   "language": "python",
   "name": "python3"
  },
  "language_info": {
   "codemirror_mode": {
    "name": "ipython",
    "version": 3
   },
   "file_extension": ".py",
   "mimetype": "text/x-python",
   "name": "python",
   "nbconvert_exporter": "python",
   "pygments_lexer": "ipython3",
   "version": "3.7.9"
  }
 },
 "nbformat": 4,
 "nbformat_minor": 4
}
