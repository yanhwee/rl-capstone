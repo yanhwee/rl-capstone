{
 "cells": [
  {
   "cell_type": "code",
   "execution_count": 1,
   "metadata": {},
   "outputs": [],
   "source": [
    "import torch\n",
    "import torch.nn as nn\n",
    "import torch.nn.functional as F\n",
    "import matplotlib.pyplot as plt\n",
    "from IPython.display import clear_output"
   ]
  },
  {
   "cell_type": "markdown",
   "metadata": {},
   "source": [
    "### Linear Regression"
   ]
  },
  {
   "cell_type": "markdown",
   "metadata": {},
   "source": [
    "To start off, we need to generate training samples.   \n",
    "We do this by creating a line (y = mx + c) that is meant to be the baseline answer."
   ]
  },
  {
   "cell_type": "code",
   "execution_count": 2,
   "metadata": {},
   "outputs": [],
   "source": [
    "m = 2\n",
    "c = 3\n",
    "f = lambda x: m * x + c"
   ]
  },
  {
   "cell_type": "markdown",
   "metadata": {},
   "source": [
    "We generate the samples as follows"
   ]
  },
  {
   "cell_type": "code",
   "execution_count": 3,
   "metadata": {},
   "outputs": [
    {
     "data": {
      "image/png": "[encoded data removed]",
      "text/plain": [
       "<Figure size 432x288 with 1 Axes>"
      ]
     },
     "metadata": {
      "needs_background": "light"
     },
     "output_type": "display_data"
    }
   ],
   "source": [
    "xs = torch.linspace(0, 10, 50)\n",
    "ys = f(xs)\n",
    "plt.plot(xs, ys)\n",
    "plt.show()"
   ]
  },
  {
   "cell_type": "markdown",
   "metadata": {},
   "source": [
    "Let's add some noise"
   ]
  },
  {
   "cell_type": "code",
   "execution_count": 4,
   "metadata": {},
   "outputs": [
    {
     "data": {
      "image/png": "[encoded data removed]",
      "text/plain": [
       "<Figure size 432x288 with 1 Axes>"
      ]
     },
     "metadata": {
      "needs_background": "light"
     },
     "output_type": "display_data"
    }
   ],
   "source": [
    "ys = ys + torch.randn(len(xs)) * 2\n",
    "plt.scatter(xs, ys, s=5)\n",
    "plt.show()"
   ]
  },
  {
   "cell_type": "markdown",
   "metadata": {},
   "source": [
    "Tada, so we have created some training samples"
   ]
  },
  {
   "cell_type": "code",
   "execution_count": 5,
   "metadata": {},
   "outputs": [
    {
     "name": "stdout",
     "output_type": "stream",
     "text": [
      "tensor([ 0.0000,  0.2041,  0.4082,  0.6122,  0.8163,  1.0204,  1.2245,  1.4286,\n",
      "         1.6327,  1.8367,  2.0408,  2.2449,  2.4490,  2.6531,  2.8571,  3.0612,\n",
      "         3.2653,  3.4694,  3.6735,  3.8776,  4.0816,  4.2857,  4.4898,  4.6939,\n",
      "         4.8980,  5.1020,  5.3061,  5.5102,  5.7143,  5.9184,  6.1224,  6.3265,\n",
      "         6.5306,  6.7347,  6.9388,  7.1429,  7.3469,  7.5510,  7.7551,  7.9592,\n",
      "         8.1633,  8.3673,  8.5714,  8.7755,  8.9796,  9.1837,  9.3878,  9.5918,\n",
      "         9.7959, 10.0000])\n",
      "tensor([ 3.3754,  2.6472,  4.5535,  4.8965,  3.2205,  4.3675,  2.9640,  7.8016,\n",
      "         6.8755,  3.8404,  6.7602,  8.9355,  8.9876,  5.8778,  6.7788, 10.6809,\n",
      "         7.4791, 12.9989, 10.6055, 12.0892, 11.0410, 13.6536, 12.8717, 13.2446,\n",
      "        12.7016,  8.0024, 14.7363, 15.4909, 13.4697, 14.2050, 21.0009, 13.0900,\n",
      "        14.0989, 17.0081, 16.5176, 18.3245, 19.1362, 20.8796, 16.9535, 20.9567,\n",
      "        16.8533, 22.3502, 17.4680, 21.1073, 21.6966, 22.7233, 21.6115, 21.8605,\n",
      "        24.3529, 22.4984])\n"
     ]
    }
   ],
   "source": [
    "print(xs)\n",
    "print(ys)"
   ]
  },
  {
   "cell_type": "markdown",
   "metadata": {},
   "source": [
    "Its time to create our own function approximator to learn it.  \n",
    "We will need to initialise our weight, w and bias, c.  \n",
    "We need to set requires_grad=True, to allow PyTorch to track its operations."
   ]
  },
  {
   "cell_type": "code",
   "execution_count": 6,
   "metadata": {},
   "outputs": [
    {
     "name": "stdout",
     "output_type": "stream",
     "text": [
      "tensor([0.], requires_grad=True)\n",
      "tensor([0.], requires_grad=True)\n"
     ]
    }
   ],
   "source": [
    "w = torch.zeros(1, requires_grad=True)\n",
    "b = torch.zeros(1, requires_grad=True)\n",
    "print(w)\n",
    "print(b)"
   ]
  },
  {
   "cell_type": "markdown",
   "metadata": {},
   "source": [
    "Thus our hypothesis shall be"
   ]
  },
  {
   "cell_type": "code",
   "execution_count": 7,
   "metadata": {},
   "outputs": [],
   "source": [
    "h = lambda x: w * x + b"
   ]
  },
  {
   "cell_type": "markdown",
   "metadata": {},
   "source": [
    "And our cost function, or basically our performance measure is"
   ]
  },
  {
   "cell_type": "code",
   "execution_count": 8,
   "metadata": {},
   "outputs": [],
   "source": [
    "j = lambda: ((h(xs) - ys) ** 2).mean()"
   ]
  },
  {
   "cell_type": "markdown",
   "metadata": {},
   "source": [
    "This will show us our current loss, by initialising our weight and bias to zero"
   ]
  },
  {
   "cell_type": "code",
   "execution_count": 9,
   "metadata": {},
   "outputs": [
    {
     "name": "stdout",
     "output_type": "stream",
     "text": [
      "tensor(212.5422, grad_fn=<MeanBackward0>)\n"
     ]
    }
   ],
   "source": [
    "cost = j()\n",
    "print(cost)"
   ]
  },
  {
   "cell_type": "markdown",
   "metadata": {},
   "source": [
    "Now let autograd do its magic: finding the deriative of the cost and allow us to tune w and b"
   ]
  },
  {
   "cell_type": "code",
   "execution_count": 10,
   "metadata": {},
   "outputs": [
    {
     "name": "stdout",
     "output_type": "stream",
     "text": [
      "tensor([-166.9917])\n",
      "tensor([-26.2256])\n"
     ]
    }
   ],
   "source": [
    "cost = j()\n",
    "cost.backward()\n",
    "print(w.grad)\n",
    "print(b.grad)"
   ]
  },
  {
   "cell_type": "markdown",
   "metadata": {},
   "source": [
    "Let's set out some hyperparameters,  \n",
    "In fact the only one is learning rate."
   ]
  },
  {
   "cell_type": "code",
   "execution_count": 11,
   "metadata": {},
   "outputs": [],
   "source": [
    "a = 1e-3"
   ]
  },
  {
   "cell_type": "code",
   "execution_count": 14,
   "metadata": {},
   "outputs": [
    {
     "name": "stdout",
     "output_type": "stream",
     "text": [
      "2.2353153228759766 1.6534656286239624\n",
      "2 3\n",
      "Wall time: 939 ms\n"
     ]
    }
   ],
   "source": [
    "%%time\n",
    "w = torch.rand(1, requires_grad=True)\n",
    "b = torch.rand(1, requires_grad=True)\n",
    "for i in range(1000):\n",
    "    cost = j()\n",
    "    cost.backward()\n",
    "    with torch.no_grad(): # To prevent tracking any operations\n",
    "        w -= a * w.grad\n",
    "        b -= a * b.grad\n",
    "        w.grad.zero_() # Reset Gradient\n",
    "        b.grad.zero_() # We don't want it to accumulate\n",
    "        # Plot\n",
    "#         clear_output(wait=True)\n",
    "#         plt.scatter(xs, ys, s=5)\n",
    "#         plt.plot(xs, h(xs))\n",
    "#         plt.show()\n",
    "#         print(i, cost.item(), w.item(), b.item())\n",
    "print(w.item(), b.item())\n",
    "print(m, c)"
   ]
  },
  {
   "cell_type": "code",
   "execution_count": 15,
   "metadata": {},
   "outputs": [
    {
     "name": "stdout",
     "output_type": "stream",
     "text": [
      "2.222437620162964 1.7395440340042114\n",
      "2 3\n",
      "Wall time: 553 ms\n"
     ]
    }
   ],
   "source": [
    "%%time\n",
    "w = torch.rand(1, requires_grad=False)\n",
    "b = torch.rand(1, requires_grad=False)\n",
    "for i in range(1000):\n",
    "    error = h(xs) - ys\n",
    "    cost = (error ** 2).mean()\n",
    "    w -= (error * xs).mean() * a * 2\n",
    "    b -= (error * 1).mean() * a * 2\n",
    "    # Plot\n",
    "#     clear_output(wait=True)\n",
    "#     plt.scatter(xs, ys, s=5)\n",
    "#     plt.plot(xs, h(xs))\n",
    "#     plt.show()\n",
    "#     print(i, cost.item(), w.item(), b.item())\n",
    "print(w.item(), b.item())\n",
    "print(m, c)"
   ]
  },
  {
   "cell_type": "code",
   "execution_count": null,
   "metadata": {},
   "outputs": [],
   "source": []
  }
 ],
 "metadata": {
  "kernelspec": {
   "display_name": "Python 3",
   "language": "python",
   "name": "python3"
  },
  "language_info": {
   "codemirror_mode": {
    "name": "ipython",
    "version": 3
   },
   "file_extension": ".py",
   "mimetype": "text/x-python",
   "name": "python",
   "nbconvert_exporter": "python",
   "pygments_lexer": "ipython3",
   "version": "3.7.9"
  }
 },
 "nbformat": 4,
 "nbformat_minor": 4
}
