{
 "cells": [
  {
   "cell_type": "code",
   "execution_count": 1,
   "metadata": {},
   "outputs": [],
   "source": [
    "import torch\n",
    "import torch.nn as nn\n",
    "import torch.nn.functional as F\n",
    "from torch import optim\n",
    "from torch.utils.data import TensorDataset\n",
    "from torch.utils.data import DataLoader\n",
    "from tensorflow.keras.datasets import mnist\n",
    "from tensorflow.keras.utils import to_categorical\n",
    "import numpy as np\n",
    "import matplotlib.pyplot as plt"
   ]
  },
  {
   "cell_type": "markdown",
   "metadata": {},
   "source": [
    "### Load Data"
   ]
  },
  {
   "cell_type": "code",
   "execution_count": 7,
   "metadata": {},
   "outputs": [],
   "source": [
    "(X_train, y_train), (X_test, y_test) = mnist.load_data()\n",
    "X_train = torch.tensor(X_train, dtype=torch.float).cuda()\n",
    "X_test = torch.tensor(X_test, dtype=torch.float).cuda()\n",
    "y_train = torch.tensor(y_train, dtype=torch.long).cuda()\n",
    "y_test = torch.tensor(y_test, dtype=torch.long).cuda()"
   ]
  },
  {
   "cell_type": "markdown",
   "metadata": {},
   "source": [
    "### Prepare Data"
   ]
  },
  {
   "cell_type": "code",
   "execution_count": 8,
   "metadata": {},
   "outputs": [],
   "source": [
    "# Dataset\n",
    "train_ds = TensorDataset(X_train, y_train)\n",
    "test_ds = TensorDataset(X_test, y_test)\n",
    "# Data Loader\n",
    "train_dl = DataLoader(train_ds, batch_size=128, shuffle=True)\n",
    "test_dl = DataLoader(test_ds, batch_size=100)"
   ]
  },
  {
   "cell_type": "markdown",
   "metadata": {},
   "source": [
    "### Create Model"
   ]
  },
  {
   "cell_type": "code",
   "execution_count": 9,
   "metadata": {},
   "outputs": [],
   "source": [
    "class ModelA(nn.Module):\n",
    "    def __init__(self):\n",
    "        super().__init__()\n",
    "        self.fc1 = nn.Linear(784, 512)\n",
    "        self.fc2 = nn.Linear(512, 10)\n",
    "        \n",
    "    def forward(self, xb):\n",
    "        xb = xb.view(-1, 784)\n",
    "        xb = F.relu(self.fc1(xb))\n",
    "        xb = self.fc2(xb)\n",
    "        return xb.view(-1, xb.size(1))"
   ]
  },
  {
   "cell_type": "markdown",
   "metadata": {},
   "source": [
    "### Train Model"
   ]
  },
  {
   "cell_type": "code",
   "execution_count": 10,
   "metadata": {},
   "outputs": [],
   "source": [
    "def realise(p):\n",
    "    return p.argmax(axis=1)\n",
    "def accuracy(y1, y2):\n",
    "    return (realise(y1) == y2).float().mean()"
   ]
  },
  {
   "cell_type": "code",
   "execution_count": 14,
   "metadata": {},
   "outputs": [
    {
     "name": "stdout",
     "output_type": "stream",
     "text": [
      "0 0.20993229746818542\n",
      "1 0.21988829970359802\n",
      "2 0.16058087348937988\n",
      "3 0.22476844489574432\n",
      "4 0.21238425374031067\n",
      "Final Accuracy: 0.9603999853134155\n",
      "Wall time: 30.5 s\n"
     ]
    }
   ],
   "source": [
    "%%time\n",
    "# Create Model\n",
    "model = ModelA().cuda()\n",
    "# Select Optimiser\n",
    "opt = optim.RMSprop(model.parameters(), lr=0.001)\n",
    "# Select Loss Function\n",
    "loss_func = F.cross_entropy\n",
    "# Train\n",
    "epochs = 5\n",
    "losses = []\n",
    "val_losses = []\n",
    "for epoch in range(epochs):\n",
    "    # Train\n",
    "    model.train()\n",
    "    for xb, yb in train_dl:\n",
    "        # Backprop\n",
    "        loss = loss_func(model(xb), yb)\n",
    "        loss.backward()\n",
    "        opt.step()\n",
    "        opt.zero_grad()\n",
    "    # Validate\n",
    "    model.eval()\n",
    "    with torch.no_grad():\n",
    "        val_loss = 0\n",
    "        for xb, yb in test_dl:\n",
    "            loss = loss_func(model(xb), yb)\n",
    "            val_loss += loss * len(xb)\n",
    "        val_loss /= len(test_ds)\n",
    "    # Statistic\n",
    "    print(epoch, val_loss.item())\n",
    "    losses.append(loss.item())\n",
    "    val_losses.append(val_loss.item())\n",
    "print('Final Accuracy:', accuracy(model(X_test), y_test).item())"
   ]
  }
 ],
 "metadata": {
  "kernelspec": {
   "display_name": "Python 3",
   "language": "python",
   "name": "python3"
  },
  "language_info": {
   "codemirror_mode": {
    "name": "ipython",
    "version": 3
   },
   "file_extension": ".py",
   "mimetype": "text/x-python",
   "name": "python",
   "nbconvert_exporter": "python",
   "pygments_lexer": "ipython3",
   "version": "3.7.9"
  }
 },
 "nbformat": 4,
 "nbformat_minor": 4
}
