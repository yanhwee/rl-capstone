{
 "cells": [
  {
   "cell_type": "markdown",
   "metadata": {},
   "source": [
    "### Imports"
   ]
  },
  {
   "cell_type": "code",
   "execution_count": 54,
   "metadata": {},
   "outputs": [],
   "source": [
    "import gym\n",
    "import random\n",
    "import numpy as np\n",
    "from bento.client import Client\n",
    "from bento.sim import Simulation\n",
    "from bento.example.mountcar import MountainCar, Action, State\n",
    "from bento.example.specs import Velocity, Position\n",
    "from IPython.display import clear_output\n",
    "from tqdm.auto import tqdm"
   ]
  },
  {
   "cell_type": "markdown",
   "metadata": {},
   "source": [
    "### Load Environment (OpenAI Gym)"
   ]
  },
  {
   "cell_type": "code",
   "execution_count": 55,
   "metadata": {},
   "outputs": [
    {
     "name": "stdout",
     "output_type": "stream",
     "text": [
      "Number of Features: 2\n",
      "Position: [-1.2000000476837158, 0.6000000238418579]\n",
      "Velocity: [-0.07000000029802322, 0.07000000029802322]\n",
      "Number of Actions: 3\n"
     ]
    }
   ],
   "source": [
    "gym_env = gym.make('MountainCar-v0')\n",
    "lows = gym_env.observation_space.low\n",
    "highs = gym_env.observation_space.high\n",
    "n_actions = gym_env.action_space.n\n",
    "print(f'Number of Features: {len(lows)}')\n",
    "print(f'Position: [{lows[0]}, {highs[0]}]')\n",
    "print(f'Velocity: [{lows[1]}, {highs[1]}]')\n",
    "print(f'Number of Actions: {n_actions}')"
   ]
  },
  {
   "cell_type": "markdown",
   "metadata": {},
   "source": [
    "### Create Environment (BentoBox)"
   ]
  },
  {
   "cell_type": "code",
   "execution_count": 56,
   "metadata": {},
   "outputs": [],
   "source": [
    "class MountainCarEnv:\n",
    "    def __init__(self, host='bento.mrzzy.co', port='54242'):\n",
    "        client = Client(host=host, port=port)\n",
    "        client.connect(timeout_sec=30)\n",
    "        if 'mountain_car' in client.list_sims():\n",
    "            client.remove_sim('mountain_car')\n",
    "        sim = Simulation.from_def(MountainCar, client)\n",
    "        self.sim = sim\n",
    "    def get_state(self):\n",
    "        car = self.sim.entity(components=[Velocity, Position])\n",
    "        return np.array([car[Position].x, car[Velocity].x])\n",
    "    def reset(self):\n",
    "        try: self.sim.stop()\n",
    "        except: pass\n",
    "        self.t = 0\n",
    "        self.sim.start()\n",
    "        return self.get_state()\n",
    "    def step(self, action):\n",
    "        env = self.sim.entity(components=[Action, State])\n",
    "        env[Action].accelerate = action\n",
    "        self.sim.step()\n",
    "        self.t += 1\n",
    "        state = self.get_state()\n",
    "        reward = env[State].reward\n",
    "        done = env[State].ended if self.t < 200 else True\n",
    "        return state, reward, done, None"
   ]
  },
  {
   "cell_type": "markdown",
   "metadata": {},
   "source": [
    "### Load Environment (BentoBox)"
   ]
  },
  {
   "cell_type": "code",
   "execution_count": 57,
   "metadata": {},
   "outputs": [],
   "source": [
    "bento_env = MountainCarEnv()"
   ]
  },
  {
   "cell_type": "markdown",
   "metadata": {},
   "source": [
    "### Preprocessing (Discretize state space)"
   ]
  },
  {
   "cell_type": "code",
   "execution_count": 58,
   "metadata": {},
   "outputs": [],
   "source": [
    "def discretize(lows, highs, intervals):\n",
    "    intervals *= np.ones(len(lows), dtype=int)\n",
    "    highs = np.nextafter(highs, np.inf)\n",
    "    widths = (highs - lows) / intervals\n",
    "    keys = np.cumprod(intervals) // intervals[0]\n",
    "    clipmax = intervals - 1\n",
    "    return lambda x: np.dot(keys, np.clip(\n",
    "        ((x - lows) / widths).astype(int), 0, clipmax))"
   ]
  },
  {
   "cell_type": "code",
   "execution_count": 59,
   "metadata": {},
   "outputs": [],
   "source": [
    "intervals = 6\n",
    "preprocess = discretize(lows, highs, intervals)\n",
    "n_states = intervals ** 2"
   ]
  },
  {
   "cell_type": "markdown",
   "metadata": {},
   "source": [
    "### Q-Learning"
   ]
  },
  {
   "cell_type": "code",
   "execution_count": 60,
   "metadata": {},
   "outputs": [],
   "source": [
    "def tabular_qlearning(\n",
    "    env, n_states, n_actions, preprocess=lambda x: x,\n",
    "    alpha=0.1, gamma=0.9, epsilon=0.1, episodes=1000):\n",
    "    q_table = np.zeros([n_states, n_actions])\n",
    "    for i in tqdm(range(episodes)):\n",
    "        state = env.reset()\n",
    "        state = preprocess(state)\n",
    "        while True:\n",
    "            # Act\n",
    "            action = (\n",
    "                env.action_space.sample()\n",
    "                if random.random() < epsilon else \n",
    "                np.argmax(q_table[state]))\n",
    "            # Observe\n",
    "            next_state, reward, done, info = env.step(action)\n",
    "            next_state = preprocess(next_state)\n",
    "            bootstrap = np.max(q_table[next_state])\n",
    "            backup = reward + gamma * bootstrap\n",
    "            q_table[state,action] += \\\n",
    "                alpha * (backup - q_table[state,action])\n",
    "            # Loop\n",
    "            state = next_state\n",
    "            if done: break\n",
    "    policy = lambda state: np.argmax(preprocess(state))\n",
    "    return policy"
   ]
  },
  {
   "cell_type": "code",
   "execution_count": 61,
   "metadata": {},
   "outputs": [
    {
     "data": {
      "application/vnd.jupyter.widget-view+json": {
       "model_id": "7f0ebe26c395468783ca916815a2a9b1",
       "version_major": 2,
       "version_minor": 0
      },
      "text/plain": [
       "HBox(children=(HTML(value=''), FloatProgress(value=0.0, max=3.0), HTML(value='')))"
      ]
     },
     "metadata": {},
     "output_type": "display_data"
    },
    {
     "name": "stdout",
     "output_type": "stream",
     "text": [
      "\n"
     ]
    }
   ],
   "source": [
    "policy = tabular_qlearning(\n",
    "    bento_env, n_states, n_actions, preprocess=preprocess,\n",
    "    alpha=0.1, gamma=0.99, epsilon=0.0, episodes=3)"
   ]
  },
  {
   "cell_type": "code",
   "execution_count": 62,
   "metadata": {},
   "outputs": [
    {
     "data": {
      "application/vnd.jupyter.widget-view+json": {
       "model_id": "fd0a62d88da44e7eade49485ef2f8026",
       "version_major": 2,
       "version_minor": 0
      },
      "text/plain": [
       "HBox(children=(HTML(value=''), FloatProgress(value=0.0, max=1000.0), HTML(value='')))"
      ]
     },
     "metadata": {},
     "output_type": "display_data"
    },
    {
     "name": "stdout",
     "output_type": "stream",
     "text": [
      "\n"
     ]
    }
   ],
   "source": [
    "policy = tabular_qlearning(\n",
    "    gym_env, n_states, n_actions, preprocess=preprocess,\n",
    "    alpha=0.15, gamma=0.99, epsilon=0.0, episodes=1000)"
   ]
  },
  {
   "cell_type": "markdown",
   "metadata": {},
   "source": [
    "### Test"
   ]
  },
  {
   "cell_type": "code",
   "execution_count": 63,
   "metadata": {},
   "outputs": [],
   "source": [
    "def test(env, policy):\n",
    "    state = env.reset()\n",
    "    while True:\n",
    "        # Act\n",
    "        action = policy(state)\n",
    "        # Observe\n",
    "        state, reward, done, info = env.step(action)\n",
    "        # Render\n",
    "        clear_output(wait=True)\n",
    "        env.render()\n",
    "        # Loop\n",
    "        if done: break\n",
    "    env.close()"
   ]
  },
  {
   "cell_type": "code",
   "execution_count": 65,
   "metadata": {},
   "outputs": [],
   "source": [
    "test(gym_env, policy)"
   ]
  },
  {
   "cell_type": "code",
   "execution_count": null,
   "metadata": {},
   "outputs": [],
   "source": []
  }
 ],
 "metadata": {
  "kernelspec": {
   "display_name": "Python 3",
   "language": "python",
   "name": "python3"
  },
  "language_info": {
   "codemirror_mode": {
    "name": "ipython",
    "version": 3
   },
   "file_extension": ".py",
   "mimetype": "text/x-python",
   "name": "python",
   "nbconvert_exporter": "python",
   "pygments_lexer": "ipython3",
   "version": "3.7.9"
  }
 },
 "nbformat": 4,
 "nbformat_minor": 4
}
