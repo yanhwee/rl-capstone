{
 "cells": [
  {
   "cell_type": "code",
   "execution_count": 1,
   "metadata": {},
   "outputs": [],
   "source": [
    "import bento\n",
    "from bento.client import Client\n",
    "from bento.sim import Simulation\n",
    "from bento.example.mountcar import MountainCar, Action, State\n",
    "from bento.example.specs import Velocity, Position"
   ]
  },
  {
   "cell_type": "code",
   "execution_count": 2,
   "metadata": {},
   "outputs": [],
   "source": [
    "ENGINE_HOST = 'bento.mrzzy.co'\n",
    "ENGINE_PORT = '54242'"
   ]
  },
  {
   "cell_type": "code",
   "execution_count": 3,
   "metadata": {},
   "outputs": [],
   "source": [
    "client = Client(host=ENGINE_HOST, port=ENGINE_PORT)"
   ]
  },
  {
   "cell_type": "code",
   "execution_count": 4,
   "metadata": {},
   "outputs": [
    {
     "data": {
      "text/plain": [
       "True"
      ]
     },
     "execution_count": 4,
     "metadata": {},
     "output_type": "execute_result"
    }
   ],
   "source": [
    "client.connect(timeout_sec=30)"
   ]
  },
  {
   "cell_type": "code",
   "execution_count": 6,
   "metadata": {},
   "outputs": [],
   "source": [
    "client.remove_sim('mountain_car')"
   ]
  },
  {
   "cell_type": "code",
   "execution_count": 7,
   "metadata": {},
   "outputs": [],
   "source": [
    "sim = Simulation.from_def(MountainCar, client)"
   ]
  },
  {
   "cell_type": "code",
   "execution_count": 9,
   "metadata": {},
   "outputs": [],
   "source": [
    "sim.start()"
   ]
  },
  {
   "cell_type": "code",
   "execution_count": 16,
   "metadata": {},
   "outputs": [],
   "source": [
    "env = sim.entity(components=[Action, State])\n",
    "car = sim.entity(components=[Velocity, Position])"
   ]
  },
  {
   "cell_type": "code",
   "execution_count": 22,
   "metadata": {},
   "outputs": [
    {
     "data": {
      "text/plain": [
       "-0.5376745380194506"
      ]
     },
     "execution_count": 22,
     "metadata": {},
     "output_type": "execute_result"
    }
   ],
   "source": [
    "car[Position].x"
   ]
  },
  {
   "cell_type": "code",
   "execution_count": 21,
   "metadata": {},
   "outputs": [],
   "source": [
    "sim.step()"
   ]
  },
  {
   "cell_type": "code",
   "execution_count": 23,
   "metadata": {},
   "outputs": [
    {
     "data": {
      "text/plain": [
       "-1"
      ]
     },
     "execution_count": 23,
     "metadata": {},
     "output_type": "execute_result"
    }
   ],
   "source": [
    "env[State].reward"
   ]
  },
  {
   "cell_type": "code",
   "execution_count": 28,
   "metadata": {},
   "outputs": [
    {
     "ename": "ModuleNotFoundError",
     "evalue": "No module named 'v2'",
     "output_type": "error",
     "traceback": [
      "\u001b[1;31m---------------------------------------------------------------------------\u001b[0m",
      "\u001b[1;31mModuleNotFoundError\u001b[0m                       Traceback (most recent call last)",
      "\u001b[1;32m<ipython-input-28-9253de4e2d80>\u001b[0m in \u001b[0;36m<module>\u001b[1;34m\u001b[0m\n\u001b[1;32m----> 1\u001b[1;33m \u001b[1;32mfrom\u001b[0m \u001b[0mv2\u001b[0m\u001b[1;33m.\u001b[0m\u001b[0menv\u001b[0m \u001b[1;32mimport\u001b[0m \u001b[0mEnv\u001b[0m\u001b[1;33m\u001b[0m\u001b[1;33m\u001b[0m\u001b[0m\n\u001b[0m\u001b[0;32m      2\u001b[0m \u001b[1;32mfrom\u001b[0m \u001b[0mbento\u001b[0m\u001b[1;33m.\u001b[0m\u001b[0mclient\u001b[0m \u001b[1;32mimport\u001b[0m \u001b[0mClient\u001b[0m\u001b[1;33m\u001b[0m\u001b[1;33m\u001b[0m\u001b[0m\n\u001b[0;32m      3\u001b[0m \u001b[1;32mfrom\u001b[0m \u001b[0mbento\u001b[0m\u001b[1;33m.\u001b[0m\u001b[0msim\u001b[0m \u001b[1;32mimport\u001b[0m \u001b[0mSimulation\u001b[0m\u001b[1;33m\u001b[0m\u001b[1;33m\u001b[0m\u001b[0m\n\u001b[0;32m      4\u001b[0m \u001b[1;32mfrom\u001b[0m \u001b[0mbento\u001b[0m\u001b[1;33m.\u001b[0m\u001b[0mexample\u001b[0m\u001b[1;33m.\u001b[0m\u001b[0mmountcar\u001b[0m \u001b[1;32mimport\u001b[0m \u001b[0mMountainCar\u001b[0m\u001b[1;33m,\u001b[0m \u001b[0mAction\u001b[0m\u001b[1;33m,\u001b[0m \u001b[0mState\u001b[0m\u001b[1;33m\u001b[0m\u001b[1;33m\u001b[0m\u001b[0m\n\u001b[0;32m      5\u001b[0m \u001b[1;32mfrom\u001b[0m \u001b[0mbento\u001b[0m\u001b[1;33m.\u001b[0m\u001b[0mexample\u001b[0m\u001b[1;33m.\u001b[0m\u001b[0mspecs\u001b[0m \u001b[1;32mimport\u001b[0m \u001b[0mVelocity\u001b[0m\u001b[1;33m,\u001b[0m \u001b[0mPosition\u001b[0m\u001b[1;33m\u001b[0m\u001b[1;33m\u001b[0m\u001b[0m\n",
      "\u001b[1;31mModuleNotFoundError\u001b[0m: No module named 'v2'"
     ]
    }
   ],
   "source": [
    "from v2.env import Env\n",
    "from bento.client import Client\n",
    "from bento.sim import Simulation\n",
    "from bento.example.mountcar import MountainCar, Action, State\n",
    "from bento.example.specs import Velocity, Position\n",
    "import gym\n",
    "\n",
    "class BentoMountainCarEnv(Env):\n",
    "    def __init__(self, host=ENGINE_HOST, port=ENGINE_PORT):\n",
    "        # Bento\n",
    "        client = Client(host=host, port=port)\n",
    "        status = client.connect(timeout_sec=30)\n",
    "        print('Client Status:', status)\n",
    "        self.client = client\n",
    "        self.sim = None\n",
    "        self.reset()\n",
    "        # Gym\n",
    "        env = gym.make('MountainCar-v0').unwrapped\n",
    "    def rand_state(self):\n",
    "        return self.env.observation_space.sample()\n",
    "    def rand_action(self):\n",
    "        return self.env.action_space.sample()\n",
    "    def reset(self):\n",
    "        self.client.remove_sim(MountainCar)\n",
    "        self.sim = Simulation.from_def(MountainCar, self.client)\n",
    "        self.sim.start()\n",
    "        state = self.get_state()\n",
    "        self.env.state = state\n",
    "        return state\n",
    "    def step(self, action):\n",
    "        self.move_car(self, action)\n",
    "        state, reward, done = self.get_state(), self.get_reward(), self.get_done()\n",
    "        self.env.state = state\n",
    "        return state, reward, done\n",
    "    def render(self):\n",
    "        self.env.render()\n",
    "    ## Bento Helper\n",
    "    def get_entities(self):\n",
    "        car = self.sim.entity(components=[Velocity, Position])\n",
    "        env = self.sim.entity(components=[Action, State])\n",
    "    def get_state(self):\n",
    "        car, env = self.get_entities()\n",
    "        return np.array([car[Position].x, car[Velocity].x])\n",
    "    def get_reward(self):\n",
    "        car, env = self.get_entities()\n",
    "        return env[State].reward\n",
    "    def get_done(self):\n",
    "        car, env = self.get_entities()\n",
    "        return env[State].ended\n",
    "    def move_car(self, action):\n",
    "        car = self.get_car()\n",
    "        car[Action].accelerate = action\n",
    "        self.sim.step()"
   ]
  },
  {
   "cell_type": "code",
   "execution_count": 24,
   "metadata": {},
   "outputs": [],
   "source": [
    "import gym"
   ]
  },
  {
   "cell_type": "code",
   "execution_count": 25,
   "metadata": {},
   "outputs": [],
   "source": [
    "env = gym.make('MountainCar-v0')"
   ]
  },
  {
   "cell_type": "code",
   "execution_count": 26,
   "metadata": {},
   "outputs": [
    {
     "data": {
      "text/plain": [
       "Box(-1.2000000476837158, 0.6000000238418579, (2,), float32)"
      ]
     },
     "execution_count": 26,
     "metadata": {},
     "output_type": "execute_result"
    }
   ],
   "source": [
    "env.observation_space"
   ]
  },
  {
   "cell_type": "code",
   "execution_count": 27,
   "metadata": {},
   "outputs": [
    {
     "data": {
      "text/plain": [
       "array([0.1393554 , 0.06834549], dtype=float32)"
      ]
     },
     "execution_count": 27,
     "metadata": {},
     "output_type": "execute_result"
    }
   ],
   "source": [
    "env.observation_space.sample()"
   ]
  },
  {
   "cell_type": "code",
   "execution_count": 4,
   "metadata": {},
   "outputs": [
    {
     "data": {
      "text/plain": [
       "'mountain_car'"
      ]
     },
     "execution_count": 4,
     "metadata": {},
     "output_type": "execute_result"
    }
   ],
   "source": [
    "MountainCar.name"
   ]
  },
  {
   "cell_type": "code",
   "execution_count": null,
   "metadata": {},
   "outputs": [],
   "source": []
  }
 ],
 "metadata": {
  "kernelspec": {
   "display_name": "Python 3",
   "language": "python",
   "name": "python3"
  },
  "language_info": {
   "codemirror_mode": {
    "name": "ipython",
    "version": 3
   },
   "file_extension": ".py",
   "mimetype": "text/x-python",
   "name": "python",
   "nbconvert_exporter": "python",
   "pygments_lexer": "ipython3",
   "version": "3.7.9"
  }
 },
 "nbformat": 4,
 "nbformat_minor": 4
}
