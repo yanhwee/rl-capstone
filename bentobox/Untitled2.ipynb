{
 "cells": [
  {
   "cell_type": "code",
   "execution_count": 3,
   "metadata": {},
   "outputs": [],
   "source": [
    "import gym\n",
    "import numpy as np\n",
    "from bento.client import Client\n",
    "from bento.sim import Simulation\n",
    "from bento.example.mountcar import MountainCar, Action, State\n",
    "from bento.example.specs import Velocity, Position"
   ]
  },
  {
   "cell_type": "code",
   "execution_count": null,
   "metadata": {},
   "outputs": [],
   "source": [
    "env = gym.make('MountainCar-v3')"
   ]
  },
  {
   "cell_type": "code",
   "execution_count": null,
   "metadata": {},
   "outputs": [],
   "source": [
    "q_table = np.zeros([env.observation_space.n, env.action_space.n])"
   ]
  },
  {
   "cell_type": "code",
   "execution_count": null,
   "metadata": {},
   "outputs": [],
   "source": []
  },
  {
   "cell_type": "code",
   "execution_count": null,
   "metadata": {},
   "outputs": [],
   "source": []
  },
  {
   "cell_type": "code",
   "execution_count": null,
   "metadata": {},
   "outputs": [],
   "source": []
  },
  {
   "cell_type": "code",
   "execution_count": null,
   "metadata": {},
   "outputs": [],
   "source": []
  },
  {
   "cell_type": "code",
   "execution_count": 2,
   "metadata": {},
   "outputs": [],
   "source": [
    "class MountainCarEnv:\n",
    "    def __init__(self, host='bento.mrzzy.co', port='54242'):\n",
    "        client = Client(host=host, port=port)\n",
    "        client.connect(timeout_sec=30)\n",
    "        if 'mountain_car' in client.list_sims():\n",
    "            client.remove_sim('mountain_car')\n",
    "        sim = Simulation.from_def(MountainCar, client)\n",
    "        self.sim = sim\n",
    "    def get_state(self):\n",
    "        car = self.sim.entity(components=[Velocity, Position])\n",
    "        return np.array([car[Position].x, car[Velocity].x])\n",
    "    def reset(self):\n",
    "        try: self.sim.stop()\n",
    "        except: pass\n",
    "        self.t = 0\n",
    "        self.sim.start()\n",
    "        return self.get_state()\n",
    "    def step(self, action):\n",
    "        env = self.sim.entity(components=[Action, State])\n",
    "        env[Action].accelerate = action\n",
    "        self.sim.step()\n",
    "        self.t += 1\n",
    "        state = self.get_state()\n",
    "        reward = env[State].reward\n",
    "        done = env[State].ended if self.t < 200 else True\n",
    "        return state, reward, done"
   ]
  },
  {
   "cell_type": "code",
   "execution_count": null,
   "metadata": {},
   "outputs": [],
   "source": []
  }
 ],
 "metadata": {
  "kernelspec": {
   "display_name": "Python 3",
   "language": "python",
   "name": "python3"
  },
  "language_info": {
   "codemirror_mode": {
    "name": "ipython",
    "version": 3
   },
   "file_extension": ".py",
   "mimetype": "text/x-python",
   "name": "python",
   "nbconvert_exporter": "python",
   "pygments_lexer": "ipython3",
   "version": "3.7.9"
  }
 },
 "nbformat": 4,
 "nbformat_minor": 4
}
