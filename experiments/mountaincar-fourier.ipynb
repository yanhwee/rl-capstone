{
 "cells": [
  {
   "cell_type": "code",
   "execution_count": 1,
   "metadata": {},
   "outputs": [],
   "source": [
    "from v2.env import GymLinearEnv, PreprocessLinearEnv\n",
    "from v2.utils import compose, linear_decay_clip\n",
    "from v2.features import fourier, normalise\n",
    "from v2.agents import qlearning\n",
    "import v2.plot as Plot\n",
    "from v2.interact import test_env\n",
    "import v2.policies as P\n",
    "import gym"
   ]
  },
  {
   "cell_type": "code",
   "execution_count": 15,
   "metadata": {},
   "outputs": [
    {
     "data": {
      "application/vnd.jupyter.widget-view+json": {
       "model_id": "3472281c78264a29b4d1d9c84efb4996",
       "version_major": 2,
       "version_minor": 0
      },
      "text/plain": [
       "HBox(children=(HTML(value=''), FloatProgress(value=0.0, max=50000.0), HTML(value='')))"
      ]
     },
     "metadata": {},
     "output_type": "display_data"
    },
    {
     "name": "stdout",
     "output_type": "stream",
     "text": [
      "\n"
     ]
    }
   ],
   "source": [
    "env = GymLinearEnv(gym.make('MountainCar-v0'))\n",
    "lows, highs = env.lows, env.highs\n",
    "preprocess = compose(\n",
    "    normalise(lows, highs),\n",
    "    fourier([7, 7]))\n",
    "env = PreprocessLinearEnv(env, preprocess)\n",
    "hist, qf = qlearning(\n",
    "    env, discount=0.99, train_ts=int(5e4),\n",
    "    epsilon=linear_decay_clip(0, 0, 1),\n",
    "    lr=0.001, nstep=1)"
   ]
  },
  {
   "cell_type": "code",
   "execution_count": 16,
   "metadata": {},
   "outputs": [],
   "source": [
    "Plot.history(hist)"
   ]
  },
  {
   "cell_type": "code",
   "execution_count": 25,
   "metadata": {},
   "outputs": [],
   "source": [
    "%matplotlib qt\n",
    "Plot.value_function_2d(\n",
    "    lambda state: max(qf(preprocess(state))),\n",
    "    lows, highs, intervals=100,\n",
    "    zlabel='State Values',\n",
    "    xlabel='Position', ylabel='Velocity',\n",
    "    title='MountainCar-v0', invert_z=True)"
   ]
  },
  {
   "cell_type": "code",
   "execution_count": 27,
   "metadata": {},
   "outputs": [],
   "source": [
    "%matplotlib qt\n",
    "Plot.value_function_2d(\n",
    "    lambda state: max(qf(preprocess(state))),\n",
    "    lows, highs, intervals=100,\n",
    "    zlabel='State Values',\n",
    "    xlabel='Position', ylabel='Velocity',\n",
    "    title='MountainCar-v0 - State Values', heatmap=True)"
   ]
  },
  {
   "cell_type": "code",
   "execution_count": 19,
   "metadata": {},
   "outputs": [
    {
     "name": "stdout",
     "output_type": "stream",
     "text": [
      "123\n",
      "Total Reward: -124.0\n"
     ]
    }
   ],
   "source": [
    "test_env(env, P.act_e_greedy(env.rand_action, 0, qf))"
   ]
  },
  {
   "cell_type": "code",
   "execution_count": 20,
   "metadata": {},
   "outputs": [],
   "source": [
    "env.env.env.close()"
   ]
  },
  {
   "cell_type": "code",
   "execution_count": null,
   "metadata": {},
   "outputs": [],
   "source": []
  }
 ],
 "metadata": {
  "kernelspec": {
   "display_name": "Python 3",
   "language": "python",
   "name": "python3"
  },
  "language_info": {
   "codemirror_mode": {
    "name": "ipython",
    "version": 3
   },
   "file_extension": ".py",
   "mimetype": "text/x-python",
   "name": "python",
   "nbconvert_exporter": "python",
   "pygments_lexer": "ipython3",
   "version": "3.7.9"
  }
 },
 "nbformat": 4,
 "nbformat_minor": 4
}
