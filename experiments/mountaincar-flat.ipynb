{
 "cells": [
  {
   "cell_type": "code",
   "execution_count": 1,
   "metadata": {},
   "outputs": [],
   "source": [
    "from v2.env import GymLinearEnv, PreprocessLinearEnv\n",
    "from v2.features import aggregate, tab2lin\n",
    "from v2.agents import qlearning\n",
    "from v2.utils import compose, linear_decay_clip\n",
    "import v2.plot as Plot\n",
    "from v2.interact import test_env\n",
    "import v2.policies as P\n",
    "import numpy as np\n",
    "import gym"
   ]
  },
  {
   "cell_type": "code",
   "execution_count": 2,
   "metadata": {},
   "outputs": [
    {
     "name": "stdout",
     "output_type": "stream",
     "text": [
      "Number of Features: 2\n",
      "Position: [-1.2000000476837158, 0.6000000238418579]\n",
      "Velocity: [-0.07000000029802322, 0.07000000029802322]\n",
      "Number of Actions: 3\n"
     ]
    },
    {
     "data": {
      "application/vnd.jupyter.widget-view+json": {
       "model_id": "32df737cbd9f4cdf8a25fb54b2e820aa",
       "version_major": 2,
       "version_minor": 0
      },
      "text/plain": [
       "HBox(children=(HTML(value=''), FloatProgress(value=0.0, max=500000.0), HTML(value='')))"
      ]
     },
     "metadata": {},
     "output_type": "display_data"
    },
    {
     "name": "stdout",
     "output_type": "stream",
     "text": [
      "\n"
     ]
    }
   ],
   "source": [
    "env = GymLinearEnv(gym.make('MountainCar-v0'))\n",
    "lows, highs = env.lows, env.highs\n",
    "print(f'Number of Features: {env.n_features}')\n",
    "print(f'Position: [{lows[0]}, {highs[0]}]')\n",
    "print(f'Velocity: [{lows[1]}, {highs[1]}]')\n",
    "print(f'Number of Actions: {env.n_actions}')\n",
    "hist, qf = qlearning(\n",
    "    env, discount=1, train_ts=int(5e5),\n",
    "    epsilon=linear_decay_clip(0, 0, 1),\n",
    "    lr=0.1, nstep=1)"
   ]
  },
  {
   "cell_type": "code",
   "execution_count": 3,
   "metadata": {},
   "outputs": [
    {
     "data": {
      "image/png": "[encoded data removed]",
      "text/plain": [
       "<Figure size 432x288 with 1 Axes>"
      ]
     },
     "metadata": {
      "needs_background": "light"
     },
     "output_type": "display_data"
    }
   ],
   "source": [
    "Plot.history(hist)"
   ]
  },
  {
   "cell_type": "code",
   "execution_count": 5,
   "metadata": {},
   "outputs": [],
   "source": [
    "%matplotlib qt\n",
    "Plot.value_function_2d(\n",
    "    lambda state: max(qf(state)),\n",
    "    lows, highs, intervals=100, zlabel='State Values',\n",
    "    xlabel='Position', ylabel='Velocity',\n",
    "    title='MountainCar-v0', invert_z=True)"
   ]
  },
  {
   "cell_type": "code",
   "execution_count": null,
   "metadata": {},
   "outputs": [],
   "source": []
  }
 ],
 "metadata": {
  "kernelspec": {
   "display_name": "Python 3",
   "language": "python",
   "name": "python3"
  },
  "language_info": {
   "codemirror_mode": {
    "name": "ipython",
    "version": 3
   },
   "file_extension": ".py",
   "mimetype": "text/x-python",
   "name": "python",
   "nbconvert_exporter": "python",
   "pygments_lexer": "ipython3",
   "version": "3.7.9"
  }
 },
 "nbformat": 4,
 "nbformat_minor": 4
}
