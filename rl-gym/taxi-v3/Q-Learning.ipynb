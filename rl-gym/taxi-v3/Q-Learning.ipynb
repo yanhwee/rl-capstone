{
 "cells": [
  {
   "cell_type": "markdown",
   "metadata": {},
   "source": [
    "## Imports"
   ]
  },
  {
   "cell_type": "code",
   "execution_count": 7,
   "metadata": {},
   "outputs": [],
   "source": [
    "import gym\n",
    "from IPython.display import clear_output\n",
    "\n",
    "import numpy as np\n",
    "import random\n",
    "import matplotlib.pyplot as plt\n",
    "import time"
   ]
  },
  {
   "cell_type": "markdown",
   "metadata": {},
   "source": [
    "## Load Taxi-v3"
   ]
  },
  {
   "cell_type": "code",
   "execution_count": 8,
   "metadata": {},
   "outputs": [],
   "source": [
    "env = gym.make('Taxi-v3')"
   ]
  },
  {
   "cell_type": "markdown",
   "metadata": {},
   "source": [
    "## Random Episode"
   ]
  },
  {
   "cell_type": "code",
   "execution_count": 9,
   "metadata": {},
   "outputs": [],
   "source": [
    "# env.reset()\n",
    "# acc_reward = 0\n",
    "# for _ in range(500):\n",
    "#     state, reward, done, info = env.step(env.action_space.sample())\n",
    "#     clear_output(wait=True)\n",
    "#     env.render()\n",
    "#     acc_reward += reward\n",
    "#     print('Acc Reward', acc_reward)\n",
    "# env.close()"
   ]
  },
  {
   "cell_type": "markdown",
   "metadata": {},
   "source": [
    "## Q-Learning"
   ]
  },
  {
   "cell_type": "markdown",
   "metadata": {},
   "source": [
    "### Hyperparameters"
   ]
  },
  {
   "cell_type": "code",
   "execution_count": 39,
   "metadata": {},
   "outputs": [],
   "source": [
    "alpha = 0.1 # Incremental Mean\n",
    "gamma = 0.6 # Discount\n",
    "epsilon = 0.1 # E-Greedy\n",
    "max_episodes = int(1e4)"
   ]
  },
  {
   "cell_type": "markdown",
   "metadata": {},
   "source": [
    "### Run"
   ]
  },
  {
   "cell_type": "code",
   "execution_count": 40,
   "metadata": {},
   "outputs": [
    {
     "name": "stdout",
     "output_type": "stream",
     "text": [
      "CPU times: user 10.3 s, sys: 10.3 ms, total: 10.3 s\n",
      "Wall time: 10.3 s\n"
     ]
    }
   ],
   "source": [
    "%%time\n",
    "q_table = np.zeros([env.observation_space.n, env.action_space.n])\n",
    "acc_rewards = []\n",
    "for i in range(1, max_episodes + 1):\n",
    "    state = env.reset()\n",
    "    acc_reward = 0\n",
    "    done = False\n",
    "    while not done:\n",
    "        if random.random() < epsilon: action = env.action_space.sample()\n",
    "        else:                         action = np.argmax(q_table[state])\n",
    "        next_state, reward, done, info = env.step(action)\n",
    "        \n",
    "        old_value = q_table[state, action]\n",
    "        next_max = np.max(q_table[next_state])\n",
    "        new_value = (1 - alpha) * old_value + alpha * (reward + gamma * next_max)\n",
    "        q_table[state, action] = new_value\n",
    "        \n",
    "        state = next_state\n",
    "        acc_reward += reward\n",
    "        #clear_output(wait=True)\n",
    "        #env.render()\n",
    "    acc_rewards.append(acc_reward)"
   ]
  },
  {
   "cell_type": "code",
   "execution_count": 41,
   "metadata": {},
   "outputs": [
    {
     "data": {
      "image/png": "[encoded data removed]",
      "text/plain": [
       "<Figure size 432x288 with 1 Axes>"
      ]
     },
     "metadata": {
      "needs_background": "light"
     },
     "output_type": "display_data"
    },
    {
     "name": "stdout",
     "output_type": "stream",
     "text": [
      "Mean -14.5673\n"
     ]
    }
   ],
   "source": [
    "plt.scatter(range(len(acc_rewards)), acc_rewards, s=1)\n",
    "plt.show()\n",
    "print('Mean', np.mean(acc_rewards))"
   ]
  },
  {
   "cell_type": "markdown",
   "metadata": {},
   "source": [
    "### Result"
   ]
  },
  {
   "cell_type": "code",
   "execution_count": 48,
   "metadata": {},
   "outputs": [
    {
     "name": "stdout",
     "output_type": "stream",
     "text": [
      "+---------+\n",
      "|R: | : :\u001b[34;1mG\u001b[0m|\n",
      "| : | : : |\n",
      "| : : : : |\n",
      "| | : | : |\n",
      "|\u001b[35mY\u001b[0m| : |\u001b[43mB\u001b[0m: |\n",
      "+---------+\n",
      "  (South)\n",
      "Acc Reward: -200\n",
      "Step 200\n",
      "Done True\n"
     ]
    }
   ],
   "source": [
    "env.reset()\n",
    "acc_reward = 0\n",
    "step = 0\n",
    "done = False\n",
    "while not done:\n",
    "    action = np.argmax(q_table[state])\n",
    "    state, reward, done, info = env.step(action)\n",
    "    \n",
    "    acc_reward += reward\n",
    "    step += 1\n",
    "    clear_output(wait=True)\n",
    "    env.render()\n",
    "    print('Acc Reward:', acc_reward)\n",
    "    print('Step', step)\n",
    "    print('Done', done)\n",
    "    time.sleep(0.1)"
   ]
  }
 ],
 "metadata": {
  "kernelspec": {
   "display_name": "Python 3",
   "language": "python",
   "name": "python3"
  },
  "language_info": {
   "codemirror_mode": {
    "name": "ipython",
    "version": 3
   },
   "file_extension": ".py",
   "mimetype": "text/x-python",
   "name": "python",
   "nbconvert_exporter": "python",
   "pygments_lexer": "ipython3",
   "version": "3.7.9"
  }
 },
 "nbformat": 4,
 "nbformat_minor": 4
}
