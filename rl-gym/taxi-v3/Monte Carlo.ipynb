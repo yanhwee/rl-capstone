{
 "cells": [
  {
   "cell_type": "markdown",
   "metadata": {},
   "source": [
    "## Imports"
   ]
  },
  {
   "cell_type": "code",
   "execution_count": 1,
   "metadata": {},
   "outputs": [],
   "source": [
    "import gym\n",
    "from IPython.display import clear_output\n",
    "\n",
    "import numpy as np\n",
    "import time\n",
    "import matplotlib.pyplot as plt\n",
    "import random"
   ]
  },
  {
   "cell_type": "markdown",
   "metadata": {},
   "source": [
    "## Load Taxi-v3"
   ]
  },
  {
   "cell_type": "code",
   "execution_count": 2,
   "metadata": {},
   "outputs": [],
   "source": [
    "env = gym.make('Taxi-v3')"
   ]
  },
  {
   "cell_type": "markdown",
   "metadata": {},
   "source": [
    "## Monte Carlo (Every-Visit, On-policy)"
   ]
  },
  {
   "cell_type": "markdown",
   "metadata": {},
   "source": [
    "### Hyperparamters"
   ]
  },
  {
   "cell_type": "code",
   "execution_count": 19,
   "metadata": {},
   "outputs": [],
   "source": [
    "alpha = 0.1 # Incremental Mean\n",
    "gamma = 0.6 # Discount\n",
    "epsilon = 0.1 # E-Greedy\n",
    "max_episodes = int(1e5)"
   ]
  },
  {
   "cell_type": "markdown",
   "metadata": {},
   "source": [
    "### Run\n",
    "1. E-Greedy Selection: Can you verify it?  \n",
    "I realised that it is very similar to Q-learning.\n",
    "\n",
    "2. Incremental Mean is used instead"
   ]
  },
  {
   "cell_type": "code",
   "execution_count": 20,
   "metadata": {},
   "outputs": [
    {
     "name": "stdout",
     "output_type": "stream",
     "text": [
      "CPU times: user 6min 10s, sys: 62.5 ms, total: 6min 10s\n",
      "Wall time: 6min 10s\n"
     ]
    }
   ],
   "source": [
    "%%time\n",
    "#q_table = np.zeros([env.observation_space.n, env.action_space.n])\n",
    "#acc_rewards = []\n",
    "for i in range(1, max_episodes + 1):\n",
    "    state = env.reset()\n",
    "    done = False\n",
    "    states = []\n",
    "    actions = []\n",
    "    rewards = []\n",
    "    while not done:\n",
    "        if random.random() < epsilon: action = env.action_space.sample()\n",
    "        else:                         action = np.argmax(q_table[state])\n",
    "        next_state, reward, done, info = env.step(action)\n",
    "        states.append(state)\n",
    "        actions.append(action)\n",
    "        rewards.append(reward)\n",
    "        state = next_state\n",
    "#         clear_output(wait=True)\n",
    "#         print('Episode:', i)\n",
    "#         env.render()\n",
    "    goal = 0\n",
    "    for state, action, reward in zip(states[::-1], actions[::-1], rewards[::-1]):\n",
    "        goal = gamma * goal + reward\n",
    "        old_value = q_table[state, action]\n",
    "        new_value = (1 - alpha) * old_value + alpha * goal\n",
    "        q_table[state, action] = new_value\n",
    "    acc_rewards.append(sum(rewards))"
   ]
  },
  {
   "cell_type": "code",
   "execution_count": 21,
   "metadata": {},
   "outputs": [
    {
     "data": {
      "image/png": "[encoded data removed]",
      "text/plain": [
       "<Figure size 432x288 with 1 Axes>"
      ]
     },
     "metadata": {
      "needs_background": "light"
     },
     "output_type": "display_data"
    },
    {
     "name": "stdout",
     "output_type": "stream",
     "text": [
      "Mean -179.67785123966942\n"
     ]
    }
   ],
   "source": [
    "plt.scatter(range(len(acc_rewards)), acc_rewards, s=1)\n",
    "plt.show()\n",
    "print('Mean', np.mean(acc_rewards))"
   ]
  },
  {
   "cell_type": "markdown",
   "metadata": {},
   "source": [
    "### Result"
   ]
  },
  {
   "cell_type": "code",
   "execution_count": 39,
   "metadata": {},
   "outputs": [
    {
     "name": "stdout",
     "output_type": "stream",
     "text": [
      "+---------+\n",
      "|R: | : :G|\n",
      "| : | : : |\n",
      "| : : : : |\n",
      "| | : | : |\n",
      "|\u001b[35m\u001b[34;1m\u001b[43mY\u001b[0m\u001b[0m\u001b[0m| : |B: |\n",
      "+---------+\n",
      "  (Dropoff)\n",
      "Acc Reward: 8\n",
      "Step 13\n",
      "Done True\n"
     ]
    }
   ],
   "source": [
    "env.reset()\n",
    "acc_reward = 0\n",
    "step = 0\n",
    "done = False\n",
    "while not done:\n",
    "    action = np.argmax(q_table[state])\n",
    "    state, reward, done, info = env.step(action)\n",
    "    \n",
    "    acc_reward += reward\n",
    "    step += 1\n",
    "    clear_output(wait=True)\n",
    "    env.render()\n",
    "    print('Acc Reward:', acc_reward)\n",
    "    print('Step', step)\n",
    "    print('Done', done)\n",
    "    time.sleep(0.01)"
   ]
  }
 ],
 "metadata": {
  "kernelspec": {
   "display_name": "RL",
   "language": "python",
   "name": "rl"
  },
  "language_info": {
   "codemirror_mode": {
    "name": "ipython",
    "version": 3
   },
   "file_extension": ".py",
   "mimetype": "text/x-python",
   "name": "python",
   "nbconvert_exporter": "python",
   "pygments_lexer": "ipython3",
   "version": "3.7.7"
  }
 },
 "nbformat": 4,
 "nbformat_minor": 4
}
