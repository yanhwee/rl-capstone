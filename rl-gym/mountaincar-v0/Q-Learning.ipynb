{
 "cells": [
  {
   "cell_type": "markdown",
   "metadata": {},
   "source": [
    "## Imports"
   ]
  },
  {
   "cell_type": "code",
   "execution_count": 2,
   "metadata": {},
   "outputs": [],
   "source": [
    "import gym\n",
    "from IPython.display import clear_output\n",
    "\n",
    "import numpy as np\n",
    "from mpl_toolkits.mplot3d import axes3d\n",
    "import matplotlib.pyplot as plt\n",
    "from random import random\n",
    "import time"
   ]
  },
  {
   "cell_type": "markdown",
   "metadata": {},
   "source": [
    "## Load MountainCar-V0"
   ]
  },
  {
   "cell_type": "code",
   "execution_count": 3,
   "metadata": {},
   "outputs": [],
   "source": [
    "env = gym.make('MountainCar-v0')"
   ]
  },
  {
   "cell_type": "code",
   "execution_count": 4,
   "metadata": {},
   "outputs": [
    {
     "name": "stdout",
     "output_type": "stream",
     "text": [
      "State: Box(2,)\n",
      "Action: Discrete(3)\n",
      "State High [0.6  0.07]\n",
      "State Low [-1.2  -0.07]\n"
     ]
    }
   ],
   "source": [
    "print('State:', env.observation_space)\n",
    "print('Action:', env.action_space)\n",
    "print('State High', env.observation_space.high)\n",
    "print('State Low', env.observation_space.low)"
   ]
  },
  {
   "cell_type": "markdown",
   "metadata": {},
   "source": [
    "### Map State Space (Continuous to Discrete to 1D)"
   ]
  },
  {
   "cell_type": "code",
   "execution_count": 5,
   "metadata": {},
   "outputs": [],
   "source": [
    "discrete_factor = 20\n",
    "def map_state_index(cstate):\n",
    "    diff = env.observation_space.high - env.observation_space.low\n",
    "    norm = cstate - env.observation_space.low\n",
    "    dstate = (norm / diff * discrete_factor).astype(int)\n",
    "    index = discrete_factor * dstate[0] + dstate[1]\n",
    "    return index"
   ]
  },
  {
   "cell_type": "markdown",
   "metadata": {},
   "source": [
    "## Q-Learning"
   ]
  },
  {
   "cell_type": "markdown",
   "metadata": {},
   "source": [
    "### Hyperparameters"
   ]
  },
  {
   "cell_type": "code",
   "execution_count": 6,
   "metadata": {},
   "outputs": [],
   "source": [
    "alpha = 0.1 # Incremental Mean\n",
    "gamma = 1 # Discount\n",
    "epsilon = 0.01 # E-Greedy\n",
    "max_episodes = int(1e4)"
   ]
  },
  {
   "cell_type": "markdown",
   "metadata": {},
   "source": [
    "### Action Values"
   ]
  },
  {
   "cell_type": "code",
   "execution_count": 7,
   "metadata": {},
   "outputs": [],
   "source": [
    "q_table = np.zeros([\n",
    "    discrete_factor ** 2, \n",
    "    env.action_space.n])\n",
    "acc_rewards = np.zeros([max_episodes])"
   ]
  },
  {
   "cell_type": "markdown",
   "metadata": {},
   "source": [
    "### Run"
   ]
  },
  {
   "cell_type": "code",
   "execution_count": 24,
   "metadata": {},
   "outputs": [
    {
     "name": "stdout",
     "output_type": "stream",
     "text": [
      "Wall time: 3min 27s\n"
     ]
    }
   ],
   "source": [
    "%%time\n",
    "for i in range(max_episodes):\n",
    "    state = env.reset()\n",
    "    acc_reward = 0\n",
    "    while True:\n",
    "        # E-Greedy\n",
    "        state_index = map_state_index(state)\n",
    "        if random() < epsilon: action = env.action_space.sample()\n",
    "        else: action = np.argmax(q_table[state_index])\n",
    "        next_state, reward, done, info = env.step(action)\n",
    "        next_state_index = map_state_index(next_state)\n",
    "        \n",
    "        really_done = info.get('TimeLimit.truncated')\n",
    "        if really_done is False:\n",
    "            break\n",
    "        \n",
    "        # Update Action Values\n",
    "        old_value = q_table[state_index, action]\n",
    "        returns = reward + gamma * np.max(q_table[next_state_index])\n",
    "        td_error = returns - old_value\n",
    "        q_table[state_index, action] += alpha * td_error\n",
    "        \n",
    "        # Continue\n",
    "        state = next_state\n",
    "        acc_reward += reward\n",
    "#         clear_output(wait=True)\n",
    "#         env.render()\n",
    "#         print(state_index)\n",
    "#         print(i, acc_reward)\n",
    "    acc_rewards[i] = acc_reward"
   ]
  },
  {
   "cell_type": "markdown",
   "metadata": {},
   "source": [
    "### Plot Episodes Rewards"
   ]
  },
  {
   "cell_type": "code",
   "execution_count": 28,
   "metadata": {},
   "outputs": [
    {
     "data": {
      "image/png": "[encoded data removed]",
      "text/plain": [
       "<Figure size 432x288 with 1 Axes>"
      ]
     },
     "metadata": {
      "needs_background": "light"
     },
     "output_type": "display_data"
    },
    {
     "name": "stdout",
     "output_type": "stream",
     "text": [
      "Mean -264.2856\n"
     ]
    }
   ],
   "source": [
    "%matplotlib inline\n",
    "\n",
    "plt.scatter(range(len(acc_rewards)), acc_rewards, s=1)\n",
    "plt.show()\n",
    "print('Mean', np.mean(acc_rewards))"
   ]
  },
  {
   "cell_type": "markdown",
   "metadata": {},
   "source": [
    "### Plot State Values"
   ]
  },
  {
   "cell_type": "code",
   "execution_count": 32,
   "metadata": {},
   "outputs": [],
   "source": [
    "%matplotlib qt\n",
    "\n",
    "fig = plt.figure()\n",
    "ax = fig.add_subplot(111, projection='3d')\n",
    "\n",
    "X, Y = np.meshgrid(\n",
    "    np.linspace(\n",
    "        env.observation_space.low[0], \n",
    "        env.observation_space.high[0],\n",
    "        discrete_factor),\n",
    "    np.linspace(\n",
    "        env.observation_space.low[1], \n",
    "        env.observation_space.high[1],\n",
    "        discrete_factor))\n",
    "\n",
    "Z = np.max(q_table, axis=1)\n",
    "# Z *= -1\n",
    "Z = Z.reshape((discrete_factor, discrete_factor))\n",
    "\n",
    "ax.plot_wireframe(X, Y, Z)\n",
    "ax.set_xlabel('Position')\n",
    "ax.set_ylabel('Velocity')\n",
    "ax.set_zlabel('State-Value')\n",
    "plt.show()"
   ]
  },
  {
   "cell_type": "markdown",
   "metadata": {},
   "source": [
    "### Result"
   ]
  },
  {
   "cell_type": "code",
   "execution_count": 21,
   "metadata": {},
   "outputs": [
    {
     "name": "stdout",
     "output_type": "stream",
     "text": [
      "Acc Reward: -148.0\n",
      "{}\n"
     ]
    }
   ],
   "source": [
    "state = env.reset()\n",
    "acc_reward = 0\n",
    "done = False\n",
    "#for i in range(300):\n",
    "while not done:\n",
    "    action = np.argmax(q_table[map_state_index(state)])\n",
    "    state, reward, done, info = env.step(action)\n",
    "    \n",
    "    really_done = info.get('TimeLimit.truncated')\n",
    "    if really_done is False:\n",
    "        break\n",
    "    \n",
    "    acc_reward += reward\n",
    "    clear_output(wait=True)\n",
    "    env.render()\n",
    "    print('Acc Reward:', acc_reward)\n",
    "    print(info)\n",
    "    time.sleep(0.01)"
   ]
  }
 ],
 "metadata": {
  "kernelspec": {
   "display_name": "RL",
   "language": "python",
   "name": "rl"
  },
  "language_info": {
   "codemirror_mode": {
    "name": "ipython",
    "version": 3
   },
   "file_extension": ".py",
   "mimetype": "text/x-python",
   "name": "python",
   "nbconvert_exporter": "python",
   "pygments_lexer": "ipython3",
   "version": "3.7.7"
  }
 },
 "nbformat": 4,
 "nbformat_minor": 4
}
