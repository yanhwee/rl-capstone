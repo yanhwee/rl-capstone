{
 "cells": [
  {
   "cell_type": "code",
   "execution_count": 1,
   "metadata": {},
   "outputs": [],
   "source": [
    "from mpl_toolkits.mplot3d import axes3d\n",
    "import matplotlib.pyplot as plt\n",
    "\n",
    "import numpy as np"
   ]
  },
  {
   "cell_type": "code",
   "execution_count": 2,
   "metadata": {},
   "outputs": [],
   "source": [
    "# %matplotlib inline\n",
    "%matplotlib qt\n",
    "\n",
    "fig = plt.figure()\n",
    "ax = fig.add_subplot(111, projection='3d')\n",
    "\n",
    "table = np.zeros([10, 10])\n",
    "table[4, 4] = 1\n",
    "\n",
    "X, Y = np.meshgrid(np.linspace(0, 0.1, 10), np.linspace(0, 0.1, 10))\n",
    "Z = table.flatten()\n",
    "\n",
    "ax.plot_wireframe(X, Y, table)\n",
    "plt.show()"
   ]
  },
  {
   "cell_type": "code",
   "execution_count": 3,
   "metadata": {},
   "outputs": [],
   "source": [
    "%matplotlib qt\n",
    "\n",
    "fig = plt.figure()\n",
    "ax = fig.add_subplot(111, projection='3d')\n",
    "\n",
    "table = np.zeros([10, 10])\n",
    "table[4, 4] = 1\n",
    "\n",
    "X, Y = np.meshgrid(np.linspace(0, 0.1, 10), np.linspace(0, 0.1, 10))\n",
    "Z = table.flatten()\n",
    "\n",
    "ax.plot_wireframe(X, Y, table)\n",
    "plt.show()"
   ]
  },
  {
   "cell_type": "code",
   "execution_count": 4,
   "metadata": {
    "tags": []
   },
   "outputs": [
    {
     "output_type": "stream",
     "name": "stdout",
     "text": "[[1 1]\n [1 2]\n [3 2]]\n[1 2 3]\n"
    }
   ],
   "source": [
    "a = np.array([\n",
    "    [1,1],\n",
    "    [1,2],\n",
    "    [3,2]\n",
    "])\n",
    "\n",
    "b = np.max(a, axis=1)\n",
    "\n",
    "print(a)\n",
    "print(b)"
   ]
  }
 ],
 "metadata": {
  "kernelspec": {
   "display_name": "RL",
   "language": "python",
   "name": "rl"
  },
  "language_info": {
   "codemirror_mode": {
    "name": "ipython",
    "version": 3
   },
   "file_extension": ".py",
   "mimetype": "text/x-python",
   "name": "python",
   "nbconvert_exporter": "python",
   "pygments_lexer": "ipython3",
   "version": "3.7.7-final"
  }
 },
 "nbformat": 4,
 "nbformat_minor": 4
}