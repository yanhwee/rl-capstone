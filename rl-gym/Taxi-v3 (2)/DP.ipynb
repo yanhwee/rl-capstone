{
 "cells": [
  {
   "cell_type": "code",
   "execution_count": 1,
   "metadata": {},
   "outputs": [],
   "source": [
    "import gym\n",
    "from IPython.display import clear_output\n",
    "import numpy as np\n",
    "import time\n",
    "from pprint import pprint"
   ]
  },
  {
   "cell_type": "code",
   "execution_count": 2,
   "metadata": {},
   "outputs": [],
   "source": [
    "env = gym.make('Taxi-v3')"
   ]
  },
  {
   "cell_type": "code",
   "execution_count": 3,
   "metadata": {},
   "outputs": [],
   "source": [
    "gamma = 1\n",
    "max_iteration = int(1e1)"
   ]
  },
  {
   "cell_type": "code",
   "execution_count": 4,
   "metadata": {
    "tags": []
   },
   "outputs": [
    {
     "name": "stdout",
     "output_type": "stream",
     "text": [
      "Wall time: 775 ms\n"
     ]
    }
   ],
   "source": [
    "%%time\n",
    "q_table = np.zeros([env.observation_space.n, env.action_space.n])\n",
    "for i in range(max_iteration):\n",
    "    for state in range(env.observation_space.n):\n",
    "        for action, scenarios in env.P[state].items():\n",
    "            new_value = 0\n",
    "            for probability, next_state, reward, done in scenarios:\n",
    "                new_value += probability * (reward + gamma * np.max(q_table[next_state]))\n",
    "            q_table[state, action] = new_value"
   ]
  },
  {
   "cell_type": "code",
   "execution_count": 10,
   "metadata": {
    "tags": []
   },
   "outputs": [
    {
     "name": "stdout",
     "output_type": "stream",
     "text": [
      "+---------+\n",
      "|\u001b[35m\u001b[34;1m\u001b[43mR\u001b[0m\u001b[0m\u001b[0m: | : :G|\n",
      "| : | : : |\n",
      "| : : : : |\n",
      "| | : | : |\n",
      "|Y| : |B: |\n",
      "+---------+\n",
      "  (Dropoff)\n",
      "[149. 150. 149. 150. 170. 160.]\n",
      "6\n"
     ]
    }
   ],
   "source": [
    "state = env.reset()\n",
    "acc_reward = 0\n",
    "while True:\n",
    "    action = np.argmax(q_table[state])\n",
    "    state, reward, done, info = env.step(action)\n",
    "    acc_reward += reward\n",
    "\n",
    "    clear_output(wait=True)\n",
    "    env.render()\n",
    "    print(q_table[state])\n",
    "    time.sleep(0.25)\n",
    "    if done: break\n",
    "env.close()\n",
    "print(acc_reward)"
   ]
  },
  {
   "cell_type": "code",
   "execution_count": 13,
   "metadata": {},
   "outputs": [
    {
     "name": "stdout",
     "output_type": "stream",
     "text": [
      "7.862\n"
     ]
    }
   ],
   "source": [
    "average_reward = 0\n",
    "for i in range(1, 1001):\n",
    "    state = env.reset()\n",
    "    acc_reward = 0\n",
    "    while True:\n",
    "        action = np.argmax(q_table[state])\n",
    "        state, reward, done, info = env.step(action)\n",
    "        acc_reward += reward\n",
    "\n",
    "        clear_output(wait=True)\n",
    "        if done: break\n",
    "    env.close()\n",
    "    average_reward += (1 / i) * (acc_reward - average_reward)\n",
    "print(average_reward)"
   ]
  }
 ],
 "metadata": {
  "kernelspec": {
   "display_name": "RL",
   "language": "python",
   "name": "rl"
  },
  "language_info": {
   "codemirror_mode": {
    "name": "ipython",
    "version": 3
   },
   "file_extension": ".py",
   "mimetype": "text/x-python",
   "name": "python",
   "nbconvert_exporter": "python",
   "pygments_lexer": "ipython3",
   "version": "3.7.7"
  }
 },
 "nbformat": 4,
 "nbformat_minor": 4
}
