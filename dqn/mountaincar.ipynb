{
 "cells": [
  {
   "cell_type": "markdown",
   "metadata": {},
   "source": [
    "### Imports"
   ]
  },
  {
   "cell_type": "code",
   "execution_count": 1,
   "metadata": {},
   "outputs": [],
   "source": [
    "%matplotlib widget\n",
    "import gym\n",
    "from dqn import DQN, Model, AggregateModel, BaseModel, SampleModel, BadModel\n",
    "from v1.utils import linear_decay_clip\n",
    "import numpy as np\n",
    "import torch"
   ]
  },
  {
   "cell_type": "markdown",
   "metadata": {},
   "source": [
    "### Load MountainCar-v0"
   ]
  },
  {
   "cell_type": "code",
   "execution_count": 3,
   "metadata": {},
   "outputs": [],
   "source": [
    "env = gym.make('MountainCar-v0')"
   ]
  },
  {
   "cell_type": "code",
   "execution_count": 4,
   "metadata": {},
   "outputs": [
    {
     "name": "stdout",
     "output_type": "stream",
     "text": [
      "There are 2 features & 3 actions\n",
      "Car Position ranges from -1.2000000476837158 to 0.6000000238418579\n",
      "Car Velocty ranges from -0.07000000029802322 to 0.07000000029802322\n"
     ]
    }
   ],
   "source": [
    "n_features = env.observation_space.shape[0]\n",
    "n_actions = env.action_space.n\n",
    "lows = env.observation_space.low\n",
    "highs = env.observation_space.high\n",
    "print(f'There are {n_features} features & {n_actions} actions')\n",
    "print(f'Car Position ranges from {lows[0]} to {highs[0]}')\n",
    "print(f'Car Velocty ranges from {lows[1]} to {highs[1]}')"
   ]
  },
  {
   "cell_type": "markdown",
   "metadata": {},
   "source": [
    "### Create Model (Q-Value Function/Learner)"
   ]
  },
  {
   "cell_type": "code",
   "execution_count": 48,
   "metadata": {},
   "outputs": [],
   "source": [
    "model = SampleModel(\n",
    "    highs=highs,\n",
    "    lows=lows,\n",
    "    n_actions=n_actions,\n",
    "    lr=0.1,\n",
    "    batch_size=100)"
   ]
  },
  {
   "cell_type": "code",
   "execution_count": 49,
   "metadata": {},
   "outputs": [
    {
     "name": "stdout",
     "output_type": "stream",
     "text": [
      "State [0.39227057 0.06362094] -> Q-Values [-0.06997582 -0.1714769   0.28832003]\n"
     ]
    }
   ],
   "source": [
    "state = env.observation_space.sample()\n",
    "q_values = model.q_values(state)\n",
    "print(f'State {state} -> Q-Values {q_values}')"
   ]
  },
  {
   "cell_type": "markdown",
   "metadata": {},
   "source": [
    "### Train DQN"
   ]
  },
  {
   "cell_type": "code",
   "execution_count": 60,
   "metadata": {},
   "outputs": [
    {
     "data": {
      "application/vnd.jupyter.widget-view+json": {
       "model_id": "2b4354e00e3b43d99868054b15bc74cf",
       "version_major": 2,
       "version_minor": 0
      },
      "text/plain": [
       "HBox(children=(HTML(value='Warmup'), FloatProgress(value=0.0, max=100000.0), HTML(value='')))"
      ]
     },
     "metadata": {},
     "output_type": "display_data"
    },
    {
     "name": "stdout",
     "output_type": "stream",
     "text": [
      "\n"
     ]
    },
    {
     "data": {
      "application/vnd.jupyter.widget-view+json": {
       "model_id": "13273ff793c04f7790f2d84463baed5f",
       "version_major": 2,
       "version_minor": 0
      },
      "text/plain": [
       "HBox(children=(HTML(value='Train'), FloatProgress(value=0.0, max=1.0), HTML(value='')))"
      ]
     },
     "metadata": {},
     "output_type": "display_data"
    },
    {
     "name": "stdout",
     "output_type": "stream",
     "text": [
      "\n"
     ]
    }
   ],
   "source": [
    "dqn = DQN(\n",
    "    env=env,\n",
    "    gamma=1,\n",
    "    epsilon=linear_decay_clip(0.5, 0.5, 100000),\n",
    "    model=model,\n",
    "    capacity=100000,\n",
    "    warmup_steps=100000,\n",
    "    train_steps=1,\n",
    "    update_steps=100000,\n",
    "    sample_size=100000)"
   ]
  },
  {
   "cell_type": "markdown",
   "metadata": {},
   "source": [
    "### Test"
   ]
  },
  {
   "cell_type": "code",
   "execution_count": 61,
   "metadata": {},
   "outputs": [
    {
     "data": {
      "image/png": "[encoded data removed]",
      "text/plain": [
       "<Figure size 432x288 with 1 Axes>"
      ]
     },
     "metadata": {
      "needs_background": "light"
     },
     "output_type": "display_data"
    },
    {
     "data": {
      "image/png": "[encoded data removed]",
      "text/plain": [
       "<Figure size 432x288 with 1 Axes>"
      ]
     },
     "metadata": {
      "needs_background": "light"
     },
     "output_type": "display_data"
    }
   ],
   "source": [
    "%matplotlib inline\n",
    "dqn.plot_stats(title='MountainCar-v0 - DQN')"
   ]
  },
  {
   "cell_type": "code",
   "execution_count": 62,
   "metadata": {},
   "outputs": [
    {
     "name": "stdout",
     "output_type": "stream",
     "text": [
      "Warning: Cannot change to a different GUI toolkit: qt. Using widget instead.\n"
     ]
    },
    {
     "data": {
      "application/vnd.jupyter.widget-view+json": {
       "model_id": "a4ec38c4786f47d3868b28904a2b9064",
       "version_major": 2,
       "version_minor": 0
      },
      "text/plain": [
       "Canvas(toolbar=Toolbar(toolitems=[('Home', 'Reset original view', 'home', 'home'), ('Back', 'Back to previous …"
      ]
     },
     "metadata": {},
     "output_type": "display_data"
    }
   ],
   "source": [
    "%matplotlib qt\n",
    "dqn.plot_2d_value_function(\n",
    "    intervals=10, \n",
    "    labels=('State Value', 'Position', 'Velocity'),\n",
    "    title='MountainCar-v0 - DQN',\n",
    "    invert_v=True,\n",
    "    anim=False)"
   ]
  },
  {
   "cell_type": "markdown",
   "metadata": {},
   "source": [
    "### Test"
   ]
  },
  {
   "cell_type": "code",
   "execution_count": 63,
   "metadata": {},
   "outputs": [
    {
     "name": "stdout",
     "output_type": "stream",
     "text": [
      "199\n"
     ]
    }
   ],
   "source": [
    "dqn.test()"
   ]
  },
  {
   "cell_type": "markdown",
   "metadata": {},
   "source": [
    "### Debug"
   ]
  },
  {
   "cell_type": "code",
   "execution_count": 10,
   "metadata": {},
   "outputs": [
    {
     "data": {
      "application/vnd.jupyter.widget-view+json": {
       "model_id": "32a61954b11b4292a13b125a01b3b449",
       "version_major": 2,
       "version_minor": 0
      },
      "text/plain": [
       "HBox(children=(HTML(value='Warmup'), FloatProgress(value=0.0, max=1.0), HTML(value='')))"
      ]
     },
     "metadata": {},
     "output_type": "display_data"
    },
    {
     "name": "stdout",
     "output_type": "stream",
     "text": [
      "\n"
     ]
    },
    {
     "data": {
      "application/vnd.jupyter.widget-view+json": {
       "model_id": "67bacb82bdbe414f96bb93e05a1e7bd8",
       "version_major": 2,
       "version_minor": 0
      },
      "text/plain": [
       "HBox(children=(HTML(value='Train'), FloatProgress(value=0.0, max=10000.0), HTML(value='')))"
      ]
     },
     "metadata": {},
     "output_type": "display_data"
    },
    {
     "name": "stdout",
     "output_type": "stream",
     "text": [
      "\n"
     ]
    }
   ],
   "source": [
    "model2 = AggregateModel(\n",
    "    lows=lows, \n",
    "    highs=highs, \n",
    "    buckets=10, \n",
    "    n_actions=n_actions, \n",
    "    lr=0.1)\n",
    "dqn2 = DQN(\n",
    "    env=env,\n",
    "    gamma=1,\n",
    "    epsilon=linear_decay_clip(0, 0, 400),\n",
    "    model=model2,\n",
    "    capacity=1,\n",
    "    warmup_steps=1,\n",
    "    train_steps=10000,\n",
    "    update_steps=1,\n",
    "    sample_size=1)"
   ]
  },
  {
   "cell_type": "code",
   "execution_count": 11,
   "metadata": {},
   "outputs": [
    {
     "data": {
      "image/png": "[encoded data removed]",
      "text/plain": [
       "<Figure size 432x288 with 1 Axes>"
      ]
     },
     "metadata": {
      "needs_background": "light"
     },
     "output_type": "display_data"
    },
    {
     "data": {
      "image/png": "[encoded data removed]",
      "text/plain": [
       "<Figure size 432x288 with 1 Axes>"
      ]
     },
     "metadata": {
      "needs_background": "light"
     },
     "output_type": "display_data"
    }
   ],
   "source": [
    "%matplotlib inline\n",
    "dqn2.plot_stats(title='MountainCar-v0 - DQN')"
   ]
  },
  {
   "cell_type": "code",
   "execution_count": 12,
   "metadata": {},
   "outputs": [
    {
     "name": "stdout",
     "output_type": "stream",
     "text": [
      "Warning: Cannot change to a different GUI toolkit: qt. Using widget instead.\n"
     ]
    },
    {
     "data": {
      "application/vnd.jupyter.widget-view+json": {
       "model_id": "2ee8794869a143458c9f0243607ce14a",
       "version_major": 2,
       "version_minor": 0
      },
      "text/plain": [
       "Canvas(toolbar=Toolbar(toolitems=[('Home', 'Reset original view', 'home', 'home'), ('Back', 'Back to previous …"
      ]
     },
     "metadata": {},
     "output_type": "display_data"
    }
   ],
   "source": [
    "%matplotlib qt\n",
    "dqn2.plot_2d_value_function(\n",
    "    intervals=10, \n",
    "    labels=('State Value', 'Position', 'Velocity'),\n",
    "    title='MountainCar-v0 - DQN',\n",
    "    invert_v=True,\n",
    "    anim=False)"
   ]
  },
  {
   "cell_type": "code",
   "execution_count": 9,
   "metadata": {},
   "outputs": [
    {
     "name": "stdout",
     "output_type": "stream",
     "text": [
      "199\n"
     ]
    }
   ],
   "source": [
    "dqn2.test()"
   ]
  },
  {
   "cell_type": "code",
   "execution_count": 48,
   "metadata": {},
   "outputs": [],
   "source": [
    "intervals = 10\n",
    "xs=np.linspace(lows[0], highs[0], intervals, dtype=np.float32)\n",
    "ys=np.linspace(lows[1], highs[1], intervals, dtype=np.float32)\n",
    "xys = np.dstack(np.meshgrid(xs, ys)).reshape(-1, 2)\n",
    "vs = np.array([model2.q_values(xy) for xy in xys])"
   ]
  },
  {
   "cell_type": "code",
   "execution_count": 167,
   "metadata": {},
   "outputs": [
    {
     "data": {
      "application/vnd.jupyter.widget-view+json": {
       "model_id": "294600d2182f4d16bb18048a26d4e352",
       "version_major": 2,
       "version_minor": 0
      },
      "text/plain": [
       "HBox(children=(HTML(value=''), FloatProgress(value=0.0, max=30.0), HTML(value='')))"
      ]
     },
     "metadata": {},
     "output_type": "display_data"
    },
    {
     "name": "stdout",
     "output_type": "stream",
     "text": [
      "\n"
     ]
    },
    {
     "data": {
      "image/png": "[encoded data removed]",
      "text/plain": [
       "<Figure size 432x288 with 1 Axes>"
      ]
     },
     "metadata": {
      "needs_background": "light"
     },
     "output_type": "display_data"
    }
   ],
   "source": [
    "%matplotlib inline\n",
    "from torch.utils.data import TensorDataset\n",
    "from torch.utils.data import DataLoader\n",
    "import torch.nn.functional as F\n",
    "import torch.nn as nn\n",
    "import torch.optim as optim\n",
    "import matplotlib.pyplot as plt\n",
    "from utils import normaliser\n",
    "class SampleModel(nn.Module, Model):\n",
    "    def __init__(self, lows, highs, n_actions, lr):\n",
    "        assert(len(lows) == len(highs))\n",
    "        super().__init__()\n",
    "        n_features = len(lows)\n",
    "        self.norm = normaliser(lows, highs)\n",
    "        self.fc1 = nn.Linear(n_features, 64)\n",
    "        self.fc2 = nn.Linear(64, 64)\n",
    "        self.fc3 = nn.Linear(64, 64)\n",
    "        self.fc4 = nn.Linear(64, n_actions)\n",
    "        self.opt = optim.Adam(self.parameters(), lr=lr)\n",
    "    def forward(self, x):\n",
    "        x = self.norm(x)\n",
    "        x = F.relu(self.fc1(x))\n",
    "        x = F.relu(self.fc2(x))\n",
    "        x = F.relu(self.fc3(x))\n",
    "        x = self.fc4(x)\n",
    "        return x\n",
    "    def q_values(self, state):\n",
    "        with torch.no_grad():\n",
    "            x = torch.tensor(state, dtype=torch.float32) # pylint: disable=not-callable\n",
    "            return self.forward(x).numpy()\n",
    "model = SampleModel(\n",
    "    highs=highs,\n",
    "    lows=lows,\n",
    "    n_actions=n_actions,\n",
    "    lr=0.01)\n",
    "# model = AggregateModel(\n",
    "#     lows=lows, \n",
    "#     highs=highs, \n",
    "#     buckets=10, \n",
    "#     n_actions=n_actions, \n",
    "#     lr=0.1)\n",
    "ds = TensorDataset(\n",
    "    torch.tensor(xys, dtype=torch.float), \n",
    "    torch.tensor(vs, dtype=torch.float))\n",
    "dl = DataLoader(ds, batch_size=10, shuffle=True)\n",
    "losses = []\n",
    "for epoch in tqdm(range(30)):\n",
    "    total_loss = 0\n",
    "    for xb, yb in dl:\n",
    "#         for x, y in zip(xb, yb): \n",
    "#             for i in range(3): \n",
    "#                 model.update(x, i, y[i])\n",
    "        loss = F.mse_loss(model(xb), yb)\n",
    "        loss.backward()\n",
    "        model.opt.step()\n",
    "        model.opt.zero_grad()\n",
    "        total_loss += loss * len(xb)\n",
    "    losses.append(total_loss / len(ds))\n",
    "plt.plot(range(len(losses)), losses)\n",
    "plt.show()"
   ]
  },
  {
   "cell_type": "code",
   "execution_count": 168,
   "metadata": {},
   "outputs": [
    {
     "name": "stdout",
     "output_type": "stream",
     "text": [
      "Warning: Cannot change to a different GUI toolkit: qt. Using widget instead.\n"
     ]
    },
    {
     "data": {
      "application/vnd.jupyter.widget-view+json": {
       "model_id": "f7df1323100a485aac4f0d04db02274e",
       "version_major": 2,
       "version_minor": 0
      },
      "text/plain": [
       "Canvas(toolbar=Toolbar(toolitems=[('Home', 'Reset original view', 'home', 'home'), ('Back', 'Back to previous …"
      ]
     },
     "metadata": {},
     "output_type": "display_data"
    }
   ],
   "source": [
    "%matplotlib qt\n",
    "plot_2d_value_function(\n",
    "    vf=lambda states: [np.amax(model.q_values(state)) for state in states],\n",
    "    env=env,\n",
    "    intervals=10, \n",
    "    labels=('State Value', 'Position', 'Velocity'),\n",
    "    title='MountainCar-v0 - DQN',\n",
    "    invert_v=True,\n",
    "    anim=False)"
   ]
  },
  {
   "cell_type": "code",
   "execution_count": 93,
   "metadata": {},
   "outputs": [
    {
     "name": "stdout",
     "output_type": "stream",
     "text": [
      "Warning: Cannot change to a different GUI toolkit: qt. Using widget instead.\n"
     ]
    },
    {
     "data": {
      "application/vnd.jupyter.widget-view+json": {
       "model_id": "c6fa5670d1254897ac205d6b2c4edea3",
       "version_major": 2,
       "version_minor": 0
      },
      "text/plain": [
       "HBox(children=(HTML(value=''), FloatProgress(value=0.0, max=10.0), HTML(value='')))"
      ]
     },
     "metadata": {},
     "output_type": "display_data"
    },
    {
     "name": "stdout",
     "output_type": "stream",
     "text": [
      "\n"
     ]
    },
    {
     "data": {
      "application/vnd.jupyter.widget-view+json": {
       "model_id": "c58540c043564f9dab873be52a3e166f",
       "version_major": 2,
       "version_minor": 0
      },
      "text/plain": [
       "Canvas(toolbar=Toolbar(toolitems=[('Home', 'Reset original view', 'home', 'home'), ('Back', 'Back to previous …"
      ]
     },
     "metadata": {},
     "output_type": "display_data"
    }
   ],
   "source": [
    "%matplotlib qt\n",
    "model = SampleModel(\n",
    "    highs=highs,\n",
    "    lows=lows,\n",
    "    n_actions=n_actions,\n",
    "    lr=0.001)\n",
    "for epoch in tqdm(range(1)):\n",
    "    for xy, v in zip(xys, vs):\n",
    "        for i in range(3):\n",
    "            model.update(xy, i, v[i])\n",
    "plot_2d_value_function(\n",
    "    vf=lambda states: [np.amax(model.q_values(state)) for state in states],\n",
    "    env=env,\n",
    "    intervals=10, \n",
    "    labels=('State Value', 'Position', 'Velocity'),\n",
    "    title='MountainCar-v0 - DQN',\n",
    "    invert_v=True,\n",
    "    anim=False)"
   ]
  },
  {
   "cell_type": "code",
   "execution_count": null,
   "metadata": {},
   "outputs": [],
   "source": []
  }
 ],
 "metadata": {
  "kernelspec": {
   "display_name": "Python 3",
   "language": "python",
   "name": "python3"
  },
  "language_info": {
   "codemirror_mode": {
    "name": "ipython",
    "version": 3
   },
   "file_extension": ".py",
   "mimetype": "text/x-python",
   "name": "python",
   "nbconvert_exporter": "python",
   "pygments_lexer": "ipython3",
   "version": "3.7.9"
  }
 },
 "nbformat": 4,
 "nbformat_minor": 4
}
